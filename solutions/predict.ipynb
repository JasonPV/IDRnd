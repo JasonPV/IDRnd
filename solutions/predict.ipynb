{
 "cells": [
  {
   "cell_type": "code",
   "execution_count": 2,
   "metadata": {},
   "outputs": [],
   "source": [
    "import os\n",
    "\n",
    "from IDRnD.utils import Train, seed_everything\n",
    "from IDRnD.augmentations import ToMellSpec, PadOrClip, ToTensor, Normalize_predef\n",
    "from IDRnD.dataset import Test_Dataset, get_train_data\n",
    "from IDRnD.resnet import resnet18\n",
    "\n",
    "import numpy as np\n",
    "import pandas as pd\n",
    "import librosa\n",
    "import torch\n",
    "from torch.utils.data import Dataset, DataLoader\n",
    "from torchvision.transforms import transforms\n",
    "\n",
    "seed_everything(0)"
   ]
  },
  {
   "cell_type": "code",
   "execution_count": 4,
   "metadata": {},
   "outputs": [],
   "source": [
    "post_transform = transforms.Compose([\n",
    "    ToMellSpec(n_mels=128),\n",
    "    Normalize_predef(-29.6179, 16.6342),\n",
    "    librosa.power_to_db,\n",
    "    PadOrClip(320),\n",
    "    ToTensor(),\n",
    "])"
   ]
  },
  {
   "cell_type": "markdown",
   "metadata": {},
   "source": [
   ]
  },
  {
   "cell_type": "code",
   "execution_count": 3,
   "metadata": {},
   "outputs": [],
   "source": [
    "X, y = get_train_data()"
   ]
  },
  {
   "cell_type": "code",
   "execution_count": null,
   "metadata": {},
   "outputs": [],
   "source": [
    "test_dataset = Test_Dataset(X)"
   ]
  },
  {
   "cell_type": "code",
   "execution_count": 7,
   "metadata": {},
   "outputs": [],
   "source": [
    "hm = Train()\n",
    "batch_size = 400\n",
    "#test_dataset = Test_Dataset(eval_protocol[\"path\"], post_transform)\n",
    "test_dataset = Test_Dataset(X[:520], post_transform)\n",
    "\n",
    "test_loader = DataLoader(test_dataset, batch_size=batch_size, shuffle=False)\n",
    "\n",
    "model = resnet18(num_classes=1).cuda()\n",
    "\n",
    "#model.load_state_dict(torch.load('models/simple_old_conv.pt'))\n",
    "#model_dst = torch.nn.DataParallel(model, device_ids=[0, 1]).cuda()\n",
    "#torch.save(model_dst.module.state_dict(),  'models/kaggle2_nonparallel.pt') \n",
    "model.eval()\n",
    "model.load_state_dict(torch.load('models/resnet_18_last_epoch.pt'))\n",
    "pred = hm.predict_on_test(test_loader, model)"
   ]
  }
 ],
 "metadata": {
  "kernelspec": {
   "display_name": "Python 3",
   "language": "python",
   "name": "python3"
  },
  "language_info": {
   "codemirror_mode": {
    "name": "ipython",
    "version": 3
   },
   "file_extension": ".py",
   "mimetype": "text/x-python",
   "name": "python",
   "nbconvert_exporter": "python",
   "pygments_lexer": "ipython3",
   "version": "3.6.8"
  }
 },
 "nbformat": 4,
 "nbformat_minor": 2
}
