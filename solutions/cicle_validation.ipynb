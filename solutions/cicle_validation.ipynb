{
 "cells": [
  {
   "cell_type": "code",
   "execution_count": 1,
   "metadata": {
    "_cell_guid": "b1076dfc-b9ad-4769-8c92-a6c4dae69d19",
    "_uuid": "8f2839f25d086af736a60e9eeb907d3b93b6e0e5"
   },
   "outputs": [],
   "source": [
    "import time\n",
    "import logging\n",
    "from IPython.display import Audio\n",
    "\n",
    "from IDRnD.utils import *\n",
    "from IDRnD.augmentations import *\n",
    "from IDRnD.dataset import *\n",
    "from IDRnD.resnet import *\n",
    "from IDRnD.nasnet_mobile import NASNetAMobile\n",
    "from IDRnD.focalloss import FocalLoss\n",
    "from IDRnD.callbacks import *\n",
    "from IDRnD.pipeline import *\n",
    "\n",
    "import numpy as np\n",
    "import torch\n",
    "from torch.optim import Adam, SGD\n",
    "from torch.optim.lr_scheduler import CosineAnnealingLR, CyclicLR, ReduceLROnPlateau\n",
    "from torch.utils.data import Dataset, DataLoader\n",
    "from torchvision.transforms import transforms\n",
    "\n",
    "from sklearn.model_selection import StratifiedKFold, train_test_split\n",
    "\n",
    "%reload_ext autoreload\n",
    "%autoreload 2\n",
    "%matplotlib inline\n",
    "\n",
    "seed_everything(0)\n",
    "logging.basicConfig(level=logging.DEBUG, filename=\"logs/logs.log\",\n",
    "                    filemode=\"w+\")"
   ]
  },
  {
   "cell_type": "code",
   "execution_count": 3,
   "metadata": {},
   "outputs": [],
   "source": [
    "post_transform = transforms.Compose([\n",
    "    librosa.power_to_db,\n",
    "    PadOrClip(320),\n",
    "    Normalize_predef(-29.6179, 16.6342),\n",
    "    ToTensor(),\n",
    "])"
   ]
  },
  {
   "cell_type": "code",
   "execution_count": null,
   "metadata": {},
   "outputs": [],
   "source": [
    "batch_size = 435\n",
    "thresh = 0.001\n",
    "\n",
    "criterion = nn.BCELoss().cuda()\n",
    "optimizer = Adam(params=model.parameters(), lr=1e-4)\n",
    "model = resnet34(num_classes=1).cuda()\n",
    "\n",
    "tb_logger = TensorBoardCallback(compute_eer)\n",
    "saver = SaveEveryEpoch(\"models/resnet_34_finding_best_val.pt\")\n",
    "best = SaveBestEpoch(\"models/resnet_34_finding_best_val.pt\", compute_eer)\n",
    "hm = Train(callbacks=[tb_logger, saver, best])"
   ]
  },
  {
   "cell_type": "code",
   "execution_count": null,
   "metadata": {},
   "outputs": [],
   "source": [
    "##first loop"
   ]
  },
  {
   "cell_type": "code",
   "execution_count": 2,
   "metadata": {},
   "outputs": [
    {
     "data": {
      "text/plain": [
       "'mask = np.load(\"IDRnD/data/mask.npy\")\\nX_good, X_bad, y_good, y_bad = X_val[np.invert(mask)], X_val[mask], y_val[np.invert(mask)], y_val[mask]\\nX_train_new, y_train_new = np.concatenate((X_train, X_bad)), np.concatenate((y_train, y_bad))\\nX_val_new, y_val_new = X_good, y_good\\n\\nX, y = np.concatenate((X_train_new, common_X, pathes_old_competition)), np.concatenate((y_train_new, common_y, classes_old_competition))'"
      ]
     },
     "execution_count": 2,
     "metadata": {},
     "output_type": "execute_result"
    }
   ],
   "source": [
    "X, y = get_train_data()\n",
    "X_train, X_val, y_train, y_val = train_test_split(X, y, test_size=0.2, random_state=42, stratify=y)"
   ]
  },
  {
   "cell_type": "code",
   "execution_count": 5,
   "metadata": {},
   "outputs": [],
   "source": [
    "train_dataset = SimpleMelDataset(X_train, y_train, \"../data/files/raw_mels/\", post_transform)\n",
    "valid_dataset = SimpleMelDataset(X_val, y_val, \"../data/files/raw_mels/\", post_transform)\n",
    "\n",
    "train_loader = DataLoader(train_dataset, batch_size=batch_size, num_workers=16, shuffle=True)\n",
    "valid_loader = DataLoader(valid_dataset, batch_size=batch_size*3, num_workers=16, shuffle=False)\n",
    "\n",
    "state = torch.load(\"models/resnet34-333f7ec4.pth\")#'models/resnet34-333f7ec4.pth')\n",
    "state.pop(\"conv1.weight\")\n",
    "state.pop(\"fc.weight\")\n",
    "state.pop(\"fc.bias\")\n",
    "model.load_state_dict(state, strict=False)\n",
    "model_dst = torch.nn.DataParallel(model, device_ids=[0, 1]).cuda()\n",
    "optimizer = Adam(params=model.parameters(), lr=1e-4)\n",
    "hm.fit(train_loader, valid_loader, model_dst, criterion, optimizer, epoches=10)"
   ]
  },
  {
   "cell_type": "code",
   "execution_count": 9,
   "metadata": {},
   "outputs": [],
   "source": [
    "state = torch.load(\"models/resnet_34_finding_best_val.pt4\")\n",
    "model.load_state_dict(state, strict=True)\n",
    "model_dst = torch.nn.DataParallel(model, device_ids=[0, 1]).cuda()\n",
    "preds = hm.predict_on_test(valid_loader, model_dst)"
   ]
  },
  {
   "cell_type": "code",
   "execution_count": 10,
   "metadata": {},
   "outputs": [
    {
     "data": {
      "text/plain": [
       "<matplotlib.axes._subplots.AxesSubplot at 0x7f08cc2fbcc0>"
      ]
     },
     "execution_count": 10,
     "metadata": {},
     "output_type": "execute_result"
    },
    {
     "data": {
      "image/png": "[encoded data removed]",
      "text/plain": [
       "<Figure size 432x288 with 1 Axes>"
      ]
     },
     "metadata": {
      "needs_background": "light"
     },
     "output_type": "display_data"
    }
   ],
   "source": [
    "index = preds.index.tolist()\n",
    "indexes = [int(idx) for idx in index]\n",
    "preds[\"abs_diff\"] = np.abs(preds[0] - indexes)\n",
    "preds[\"abs_diff\"].hist(bins=150)"
   ]
  },
  {
   "cell_type": "code",
   "execution_count": 17,
   "metadata": {},
   "outputs": [],
   "source": [
    "preds['names'] = X_val\n",
    "del_from_validation = set(np.array(preds[\"names\"][preds[\"abs_diff\"] < thresh]))\n",
    "mask = np.array([True if item in del_from_validation else False for item in X_val])\n",
    "X_good, X_bad, y_good, y_bad = X_val[np.invert(mask)], X_val[mask], y_val[np.invert(mask)], y_val[mask]\n",
    "X_train_new, y_train_new = np.concatenate((X_train, X_bad)), np.concatenate((y_train, y_bad))\n",
    "X_white_list, y_white_list = X_good, y_good"
   ]
  },
  {
   "cell_type": "code",
   "execution_count": null,
   "metadata": {},
   "outputs": [],
   "source": [
    "##second_loop"
   ]
  },
  {
   "cell_type": "code",
   "execution_count": 20,
   "metadata": {},
   "outputs": [],
   "source": [
    "X_train, X_val, y_train, y_val = train_test_split(X_train_new, y_train_new, test_size=0.2, random_state=42, stratify=y_train_new)\n",
    "X_val, y_val = np.concatenate((X_val, X_white_list)), np.concatenate((y_val, y_white_list))"
   ]
  },
  {
   "cell_type": "code",
   "execution_count": 22,
   "metadata": {},
   "outputs": [],
   "source": [
    "train_dataset = SimpleMelDataset(X_train, y_train, \"../data/files/raw_mels/\", post_transform)\n",
    "valid_dataset = SimpleMelDataset(X_val, y_val, \"../data/files/raw_mels/\", post_transform)\n",
    "\n",
    "train_loader = DataLoader(train_dataset, batch_size=batch_size, num_workers=16, shuffle=True)\n",
    "valid_loader = DataLoader(valid_dataset, batch_size=batch_size*3, num_workers=16, shuffle=False)\n",
    "\n",
    "state = torch.load(\"models/resnet34-333f7ec4.pth\")#'models/resnet34-333f7ec4.pth')\n",
    "state.pop(\"conv1.weight\")\n",
    "state.pop(\"fc.weight\")\n",
    "state.pop(\"fc.bias\")\n",
    "model.load_state_dict(state, strict=False)\n",
    "model_dst = torch.nn.DataParallel(model, device_ids=[0, 1]).cuda()\n",
    "optimizer = Adam(params=model.parameters(), lr=1e-4)\n",
    "\n",
    "tb_logger = TensorBoardCallback(compute_eer)\n",
    "saver = SaveEveryEpoch(\"models/resnet_34_finding_best_val.pt\")\n",
    "best = SaveBestEpoch(\"models/resnet_34_finding_best_val.pt\", compute_eer)\n",
    "hm = Train(callbacks=[tb_logger, saver, best])\n",
    "\n",
    "hm.fit(train_loader, valid_loader, model_dst, criterion, optimizer, epoches=10)"
   ]
  },
  {
   "cell_type": "code",
   "execution_count": 23,
   "metadata": {},
   "outputs": [],
   "source": [
    "state = torch.load(\"models/resnet_34_finding_best_val.pt4\")\n",
    "model.load_state_dict(state, strict=True)\n",
    "model_dst = torch.nn.DataParallel(model, device_ids=[0, 1]).cuda()\n",
    "preds = hm.predict_on_test(valid_loader, model_dst)"
   ]
  },
  {
   "cell_type": "code",
   "execution_count": 24,
   "metadata": {},
   "outputs": [
    {
     "data": {
      "text/plain": [
       "<matplotlib.axes._subplots.AxesSubplot at 0x7f0807aebcf8>"
      ]
     },
     "execution_count": 24,
     "metadata": {},
     "output_type": "execute_result"
    },
    {
     "data": {
      "image/png": "[encoded data removed]",
      "text/plain": [
       "<Figure size 432x288 with 1 Axes>"
      ]
     },
     "metadata": {
      "needs_background": "light"
     },
     "output_type": "display_data"
    }
   ],
   "source": [
    "index = preds.index.tolist()\n",
    "indexes = [int(idx) for idx in index]\n",
    "preds[\"abs_diff\"] = np.abs(preds[0] - indexes)\n",
    "preds[\"abs_diff\"].hist(bins=150)"
   ]
  },
  {
   "cell_type": "code",
   "execution_count": 25,
   "metadata": {},
   "outputs": [],
   "source": [
    "preds['names'] = X_val\n",
    "del_from_validation = set(np.array(preds[\"names\"][preds[\"abs_diff\"] < thresh]))\n",
    "mask = np.array([True if item in del_from_validation else False for item in X_val])\n",
    "X_good, X_bad, y_good, y_bad = X_val[np.invert(mask)], X_val[mask], y_val[np.invert(mask)], y_val[mask]\n",
    "X_train_new, y_train_new = np.concatenate((X_train, X_bad)), np.concatenate((y_train, y_bad))\n",
    "X_white_list, y_white_list = X_good, y_good"
   ]
  },
  {
   "cell_type": "code",
   "execution_count": 29,
   "metadata": {},
   "outputs": [],
   "source": [
    "##third loop"
   ]
  },
  {
   "cell_type": "code",
   "execution_count": 30,
   "metadata": {},
   "outputs": [],
   "source": [
    "X_train, X_val, y_train, y_val = train_test_split(X_train_new, y_train_new, test_size=0.2, random_state=42, stratify=y_train_new)\n",
    "X_val, y_val = np.concatenate((X_val, X_white_list)), np.concatenate((y_val, y_white_list))"
   ]
  },
  {
   "cell_type": "code",
   "execution_count": 31,
   "metadata": {},
   "outputs": [],
   "source": [
    "train_dataset = SimpleMelDataset(X_train, y_train, \"../data/files/raw_mels/\", post_transform)\n",
    "valid_dataset = SimpleMelDataset(X_val, y_val, \"../data/files/raw_mels/\", post_transform)\n",
    "\n",
    "train_loader = DataLoader(train_dataset, batch_size=batch_size, num_workers=16, shuffle=True)\n",
    "valid_loader = DataLoader(valid_dataset, batch_size=batch_size*3, num_workers=16, shuffle=False)\n",
    "\n",
    "state = torch.load(\"models/resnet34-333f7ec4.pth\")#'models/resnet34-333f7ec4.pth')\n",
    "state.pop(\"conv1.weight\")\n",
    "state.pop(\"fc.weight\")\n",
    "state.pop(\"fc.bias\")\n",
    "model.load_state_dict(state, strict=False)\n",
    "model_dst = torch.nn.DataParallel(model, device_ids=[0, 1]).cuda()\n",
    "optimizer = Adam(params=model.parameters(), lr=1e-4)\n",
    "\n",
    "tb_logger = TensorBoardCallback(compute_eer)\n",
    "saver = SaveEveryEpoch(\"models/resnet_34_finding_best_val.pt\")\n",
    "best = SaveBestEpoch(\"models/resnet_34_finding_best_val.pt\", compute_eer)\n",
    "hm = Train(callbacks=[tb_logger, saver, best])\n",
    "\n",
    "hm.fit(train_loader, valid_loader, model_dst, criterion, optimizer, epoches=10)"
   ]
  },
  {
   "cell_type": "code",
   "execution_count": 32,
   "metadata": {},
   "outputs": [
    {
     "data": {
      "text/plain": [
       "<matplotlib.axes._subplots.AxesSubplot at 0x7f084c1367f0>"
      ]
     },
     "execution_count": 32,
     "metadata": {},
     "output_type": "execute_result"
    },
    {
     "data": {
      "image/png": "[encoded data removed]",
      "text/plain": [
       "<Figure size 432x288 with 1 Axes>"
      ]
     },
     "metadata": {
      "needs_background": "light"
     },
     "output_type": "display_data"
    }
   ],
   "source": [
    "state = torch.load(\"models/resnet_34_finding_best_val.pt1\")\n",
    "model.load_state_dict(state, strict=True)\n",
    "model_dst = torch.nn.DataParallel(model, device_ids=[0, 1]).cuda()\n",
    "preds = hm.predict_on_test(valid_loader, model_dst)\n",
    "\n",
    "index = preds.index.tolist()\n",
    "indexes = [int(idx) for idx in index]\n",
    "preds[\"abs_diff\"] = np.abs(preds[0] - indexes)\n",
    "preds[\"abs_diff\"].hist(bins=150)"
   ]
  },
  {
   "cell_type": "code",
   "execution_count": 33,
   "metadata": {},
   "outputs": [],
   "source": [
    "preds['names'] = X_val\n",
    "del_from_validation = set(np.array(preds[\"names\"][preds[\"abs_diff\"] < thresh]))\n",
    "mask = np.array([True if item in del_from_validation else False for item in X_val])\n",
    "X_good, X_bad, y_good, y_bad = X_val[np.invert(mask)], X_val[mask], y_val[np.invert(mask)], y_val[mask]\n",
    "X_train_new, y_train_new = np.concatenate((X_train, X_bad)), np.concatenate((y_train, y_bad))\n",
    "X_white_list, y_white_list = X_good, y_good"
   ]
  },
  {
   "cell_type": "code",
   "execution_count": 36,
   "metadata": {},
   "outputs": [],
   "source": [
    "#forth"
   ]
  },
  {
   "cell_type": "code",
   "execution_count": 37,
   "metadata": {},
   "outputs": [],
   "source": [
    "X_train, X_val, y_train, y_val = train_test_split(X_train_new, y_train_new, test_size=0.2, random_state=42, stratify=y_train_new)\n",
    "X_val, y_val = np.concatenate((X_val, X_white_list)), np.concatenate((y_val, y_white_list))"
   ]
  },
  {
   "cell_type": "code",
   "execution_count": 38,
   "metadata": {},
   "outputs": [],
   "source": [
    "train_dataset = SimpleMelDataset(X_train, y_train, \"../data/files/raw_mels/\", post_transform)\n",
    "valid_dataset = SimpleMelDataset(X_val, y_val, \"../data/files/raw_mels/\", post_transform)\n",
    "\n",
    "train_loader = DataLoader(train_dataset, batch_size=batch_size, num_workers=16, shuffle=True)\n",
    "valid_loader = DataLoader(valid_dataset, batch_size=batch_size*3, num_workers=16, shuffle=False)\n",
    "\n",
    "state = torch.load(\"models/resnet34-333f7ec4.pth\")#'models/resnet34-333f7ec4.pth')\n",
    "state.pop(\"conv1.weight\")\n",
    "state.pop(\"fc.weight\")\n",
    "state.pop(\"fc.bias\")\n",
    "model.load_state_dict(state, strict=False)\n",
    "model_dst = torch.nn.DataParallel(model, device_ids=[0, 1]).cuda()\n",
    "optimizer = Adam(params=model.parameters(), lr=1e-4)\n",
    "\n",
    "tb_logger = TensorBoardCallback(compute_eer)\n",
    "saver = SaveEveryEpoch(\"models/resnet_34_finding_best_val.pt\")\n",
    "best = SaveBestEpoch(\"models/resnet_34_finding_best_val.pt\", compute_eer)\n",
    "hm = Train(callbacks=[tb_logger, saver, best])\n",
    "\n",
    "hm.fit(train_loader, valid_loader, model_dst, criterion, optimizer, epoches=10)"
   ]
  },
  {
   "cell_type": "code",
   "execution_count": 40,
   "metadata": {},
   "outputs": [
    {
     "data": {
      "text/plain": [
       "<matplotlib.axes._subplots.AxesSubplot at 0x7f080755def0>"
      ]
     },
     "execution_count": 40,
     "metadata": {},
     "output_type": "execute_result"
    },
    {
     "data": {
      "image/png": "[encoded data removed]",
      "text/plain": [
       "<Figure size 432x288 with 1 Axes>"
      ]
     },
     "metadata": {
      "needs_background": "light"
     },
     "output_type": "display_data"
    }
   ],
   "source": [
    "state = torch.load(\"models/resnet_34_finding_best_val.pt4\")\n",
    "model.load_state_dict(state, strict=True)\n",
    "model_dst = torch.nn.DataParallel(model, device_ids=[0, 1]).cuda()\n",
    "preds = hm.predict_on_test(valid_loader, model_dst)\n",
    "\n",
    "index = preds.index.tolist()\n",
    "indexes = [int(idx) for idx in index]\n",
    "preds[\"abs_diff\"] = np.abs(preds[0] - indexes)\n",
    "preds[\"abs_diff\"].hist(bins=150)"
   ]
  },
  {
   "cell_type": "code",
   "execution_count": 41,
   "metadata": {},
   "outputs": [],
   "source": [
    "preds['names'] = X_val\n",
    "del_from_validation = set(np.array(preds[\"names\"][preds[\"abs_diff\"] < thresh]))\n",
    "mask = np.array([True if item in del_from_validation else False for item in X_val])\n",
    "X_good, X_bad, y_good, y_bad = X_val[np.invert(mask)], X_val[mask], y_val[np.invert(mask)], y_val[mask]\n",
    "X_train_new, y_train_new = np.concatenate((X_train, X_bad)), np.concatenate((y_train, y_bad))\n",
    "X_white_list, y_white_list = X_good, y_good"
   ]
  },
  {
   "cell_type": "code",
   "execution_count": 44,
   "metadata": {},
   "outputs": [
    {
     "data": {
      "text/plain": [
       "0.15398808828681537"
      ]
     },
     "execution_count": 44,
     "metadata": {},
     "output_type": "execute_result"
    }
   ],
   "source": [
    "6593/42815"
   ]
  },
  {
   "cell_type": "code",
   "execution_count": 46,
   "metadata": {},
   "outputs": [],
   "source": [
    "np.save(\"IDRnD/data/four_cicle_loop_validation\", np.array([X_train_new, y_train_new, X_white_list, y_white_list]))"
   ]
  },
  {
   "cell_type": "code",
   "execution_count": null,
   "metadata": {},
   "outputs": [],
   "source": []
  }
 ],
 "metadata": {
  "kernelspec": {
   "display_name": "Python 3",
   "language": "python",
   "name": "python3"
  },
  "language_info": {
   "codemirror_mode": {
    "name": "ipython",
    "version": 3
   },
   "file_extension": ".py",
   "mimetype": "text/x-python",
   "name": "python",
   "nbconvert_exporter": "python",
   "pygments_lexer": "ipython3",
   "version": "3.6.8"
  }
 },
 "nbformat": 4,
 "nbformat_minor": 2
}
