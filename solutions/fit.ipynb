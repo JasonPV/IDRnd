{
 "cells": [
  {
   "cell_type": "code",
   "execution_count": 1,
   "metadata": {
    "_cell_guid": "b1076dfc-b9ad-4769-8c92-a6c4dae69d19",
    "_uuid": "8f2839f25d086af736a60e9eeb907d3b93b6e0e5"
   },
   "outputs": [],
   "source": [
    "import time\n",
    "import logging\n",
    "from IPython.display import Audio\n",
    "\n",
    "from IDRnD.utils import *\n",
    "from IDRnD.augmentations import *\n",
    "from IDRnD.dataset import *\n",
    "from IDRnD.resnet import *\n",
    "from IDRnD.nasnet_mobile import NASNetAMobile\n",
    "from IDRnD.focalloss import FocalLoss\n",
    "from IDRnD.callbacks import *\n",
    "from IDRnD.pipeline import *\n",
    "\n",
    "import numpy as np\n",
    "import torch\n",
    "from torch.optim import Adam, SGD\n",
    "from torch.optim.lr_scheduler import CosineAnnealingLR, CyclicLR, ReduceLROnPlateau\n",
    "from torch.utils.data import Dataset, DataLoader\n",
    "from torchvision.transforms import transforms\n",
    "\n",
    "from sklearn.model_selection import StratifiedKFold, train_test_split\n",
    "\n",
    "%reload_ext autoreload\n",
    "%autoreload 2\n",
    "%matplotlib inline\n",
    "\n",
    "seed_everything(0)\n",
    "logging.basicConfig(level=logging.DEBUG, filename=\"logs/logs.log\",\n",
    "                    filemode=\"w+\")"
   ]
  },
  {
   "cell_type": "code",
   "execution_count": 2,
   "metadata": {},
   "outputs": [],
   "source": [
    "X, y = get_train_data()\n",
    "X_train, X_val, y_train, y_val = train_test_split(X, y, test_size=0.2, random_state=42, stratify=y)\n",
    "\n",
    "mask = np.load(\"IDRnD/data/mask.npy\")\n",
    "X_good, X_bad, y_good, y_bad = X_val[np.invert(mask)], X_val[mask], y_val[np.invert(mask)], y_val[mask]\n",
    "X_train_new, y_train_new = np.concatenate((X_train, X_bad)), np.concatenate((y_train, y_bad))\n",
    "X_val_new, y_val_new = X_good, y_good"
   ]
  },
  {
   "cell_type": "code",
   "execution_count": 3,
   "metadata": {},
   "outputs": [],
   "source": [
    "import os"
   ]
  },
  {
   "cell_type": "code",
   "execution_count": 4,
   "metadata": {},
   "outputs": [],
   "source": [
    "all_files = os.listdir(\"../data/files/raw_mels/\")"
   ]
  },
  {
   "cell_type": "code",
   "execution_count": 5,
   "metadata": {},
   "outputs": [],
   "source": [
    "common = []\n",
    "for file in all_files:\n",
    "    if file.startswith(\"common\"):\n",
    "        common.append(file)\n",
    "        \n",
    "common_X = np.array(common)\n",
    "common_y = np.ones_like(common_X, dtype=np.int16)"
   ]
  },
  {
   "cell_type": "code",
   "execution_count": 6,
   "metadata": {},
   "outputs": [],
   "source": [
    "post_transform = transforms.Compose([\n",
    "    librosa.power_to_db,\n",
    "    PadOrClip(320),\n",
    "    Normalize_predef(-29.6179, 16.6342),\n",
    "    ToTensor(),\n",
    "    #transforms.ToTensor(),\n",
    "])"
   ]
  },
  {
   "cell_type": "code",
   "execution_count": 7,
   "metadata": {},
   "outputs": [],
   "source": [
    "##train\n",
    "batch_size = 400\n",
    "\n",
    "train_dataset = SimpleMelDataset(np.concatenate((X_train_new, common_X)), np.concatenate((y_train_new, common_y)), \"../data/files/raw_mels/\", post_transform)\n",
    "valid_dataset = SimpleMelDataset(X_val_new, y_val_new, \"../data/files/raw_mels/\", post_transform)\n",
    "\n",
    "train_loader = DataLoader(train_dataset, batch_size=batch_size, num_workers=16, shuffle=True)\n",
    "valid_loader = DataLoader(valid_dataset, batch_size=batch_size*3, num_workers=16, shuffle=False)\n",
    "\n",
    "model = resnet34(num_classes=1).cuda()\n",
    "#model.load_state_dict(torch.load('models/resnet_34.pt7'))\n",
    "model_dst = torch.nn.DataParallel(model, device_ids=[0, 1]).cuda()\n",
    "\n",
    "criterion = nn.BCEWithLogitsLoss().cuda()\n",
    "#criterion = FocalLoss(gamma=2, reduce='mean').cuda()\n",
    "optimizer = Adam(params=model.parameters(), lr=1e-4)"
   ]
  },
  {
   "cell_type": "code",
   "execution_count": null,
   "metadata": {},
   "outputs": [],
   "source": [
    "tb_logger = TensorBoardCallback(compute_eer)\n",
    "#saver = SaveEveryEpoch(\"models/resnet_34_common_voice.pt\")\n",
    "acumulator = AccumulateGradient([30, 50, 70, 100])\n",
    "best = SaveBestEpoch(\"models/resnet_34_common_voice.pt\", compute_eer)\n",
    "scheduler = ReduceLROnPlateau(optimizer, patience=1, verbose=True)\n",
    "scheduler_call = EpochScheduler(scheduler)\n",
    "hm = Train(callbacks=[tb_logger, acumulator, best, scheduler_call])\n",
    "\n",
    "hm.fit(train_loader, valid_loader, model_dst, criterion, optimizer, epoches=150)"
   ]
  },
  {
   "cell_type": "code",
   "execution_count": null,
   "metadata": {},
   "outputs": [],
   "source": []
  }
 ],
 "metadata": {
  "kernelspec": {
   "display_name": "Python 3",
   "language": "python",
   "name": "python3"
  },
  "language_info": {
   "codemirror_mode": {
    "name": "ipython",
    "version": 3
   },
   "file_extension": ".py",
   "mimetype": "text/x-python",
   "name": "python",
   "nbconvert_exporter": "python",
   "pygments_lexer": "ipython3",
   "version": "3.6.8"
  }
 },
 "nbformat": 4,
 "nbformat_minor": 2
}
