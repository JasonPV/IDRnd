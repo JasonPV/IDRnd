{
 "cells": [
  {
   "cell_type": "code",
   "execution_count": 1,
   "metadata": {},
   "outputs": [
    {
     "data": {
      "text/plain": [
       "0.5"
      ]
     },
     "execution_count": 1,
     "metadata": {},
     "output_type": "execute_result"
    }
   ],
   "source": [
    "0.5"
   ]
  },
  {
   "cell_type": "code",
   "execution_count": 2,
   "metadata": {},
   "outputs": [
    {
     "name": "stdout",
     "output_type": "stream",
     "text": [
      "Requirement already satisfied: torchsummary in /opt/conda/lib/python3.6/site-packages (1.5.1)\n",
      "\u001b[33mWARNING: You are using pip version 19.1, however version 19.1.1 is available.\n",
      "You should consider upgrading via the 'pip install --upgrade pip' command.\u001b[0m\n",
      "Note: you may need to restart the kernel to use updated packages.\n"
     ]
    }
   ],
   "source": [
    "%pip install torchsummary"
   ]
  },
  {
   "cell_type": "code",
   "execution_count": 1,
   "metadata": {},
   "outputs": [],
   "source": [
    "import torchsummary"
   ]
  },
  {
   "cell_type": "code",
   "execution_count": 2,
   "metadata": {
    "_cell_guid": "b1076dfc-b9ad-4769-8c92-a6c4dae69d19",
    "_uuid": "8f2839f25d086af736a60e9eeb907d3b93b6e0e5"
   },
   "outputs": [],
   "source": [
    "import time\n",
    "from IPython.display import Audio\n",
    "import logging\n",
    "\n",
    "from Freesound.data import *\n",
    "from Freesound.utils import *\n",
    "from Freesound.model import *\n",
    "from Freesound.augmentations import *\n",
    "\n",
    "import numpy as np\n",
    "from iterstrat.ml_stratifiers import MultilabelStratifiedKFold\n",
    "\n",
    "import torch\n",
    "from torch.optim import Adam, SGD\n",
    "from torch.optim.lr_scheduler import CosineAnnealingLR, CyclicLR\n",
    "from torch.utils.data import Dataset, DataLoader\n",
    "from torchvision.transforms import transforms\n",
    "\n",
    "%reload_ext autoreload\n",
    "%autoreload 2\n",
    "\n",
    "seed_everything(0)\n",
    "logging.basicConfig(level=logging.DEBUG, filename=\"logs/logs.log\", filemode=\"w+\")"
   ]
  },
  {
   "cell_type": "code",
   "execution_count": 3,
   "metadata": {},
   "outputs": [],
   "source": [
    "names, y_curated_np, y_noisy_np, train_curated, train_noisy, _, labels = get_tables()\n",
    "\n",
    "#train_audio = load_audio(1, False, 'Freesound/pickles/train_audio_44100.pkl')\n",
    "#train_audio.pop(534)\n",
    "y_curated_np = np.delete(y_curated_np, 534, axis=0)\n",
    "train_curated.drop(534, axis=0, inplace=True)\n",
    "#train_audio = np.array(train_audio)\n",
    "\n",
    "mskf = MultilabelStratifiedKFold(n_splits=5, random_state=0)\n",
    "train_index, test_index = next(mskf.split(y_curated_np, y_curated_np))\n",
    "#X_train, X_val = train_audio[train_index], train_audio[test_index]\n",
    "y_train, y_val = y_curated_np[train_index], y_curated_np[test_index]"
   ]
  },
  {
   "cell_type": "code",
   "execution_count": 4,
   "metadata": {},
   "outputs": [],
   "source": [
    "train_transform = transforms.Compose([\n",
    "    #RandomParameter(VTLP, [[0.8, 1.2]], p=0.5),\n",
    "    #MinMaxChunkScaler(),\n",
    "    #Normalize(),\n",
    "    RandomParameter(RandomNoise, [[0.01, 0.5]]),\n",
    "    RandomParameter(Shift, [[2000, 16000]]),\n",
    "    RandomParameter(TimeStretch, [[0.6, 1.8]]),\n",
    "    RandomParameter(PitchShift, [[1, 16]]),\n",
    "    RandomParameter(Distortion, [[-1, -0.3], [.3, 1.]]),\n",
    "    ToMellSpec(),\n",
    "    #GetMFCC(),\n",
    "    PadOrClip(600),\n",
    "    Normalize(),\n",
    "    ToTensor(),\n",
    "    #transforms.ToTensor(),\n",
    "]) "
   ]
  },
  {
   "cell_type": "code",
   "execution_count": 7,
   "metadata": {},
   "outputs": [],
   "source": [
    "def flatten(tensor):\n",
    "    return tensor.view(256, 256).permute(1, 0)"
   ]
  },
  {
   "cell_type": "code",
   "execution_count": 8,
   "metadata": {},
   "outputs": [],
   "source": [
    "post_transform = transforms.Compose([\n",
    "    #ToMellSpec(n_mels=331),\n",
    "    librosa.power_to_db,\n",
    "    #GetMFCC(),\n",
    "    PadOrClip(256),\n",
    "    Normalize_predef(-24.42848536693399, 13.524654994769366),\n",
    "    #Normalize(),\n",
    "    ToTensor(),\n",
    "    #transforms.ToTensor(),\n",
    "    flatten,\n",
    "])"
   ]
  },
  {
   "cell_type": "code",
   "execution_count": 9,
   "metadata": {},
   "outputs": [],
   "source": [
    "from Freesound.jasper import TinyJasper"
   ]
  },
  {
   "cell_type": "code",
   "execution_count": 10,
   "metadata": {},
   "outputs": [],
   "source": [
    "##train\n",
    "hm = Train(model_path=\"models/tine_jasper_RT.pt\", gradient_acumulation=set([100, 150, 200, 250, 300]))\n",
    "\n",
    "#train_dataset_raw = Dataset_Train(X_train, y_train, preload=True)\n",
    "train_dataset = Dataset_Train_Preload(y_train, \"../data/raw_mels_augs_RT/\")\n",
    "train_dataset_mixmatch = Dataset_Train_Mixmatch(train_dataset, post_transform=post_transform, pad_lenth=256)\n",
    "\n",
    "#valid_dataset_raw = Dataset_Train(X_val, y_val, post_transform, preload=True)\n",
    "valid_dataset = Dataset_Train_Preload(y_val, \"../data/raw_mels_augs_RT_val/\", transforms=post_transform)\n",
    "\n",
    "train_loader = DataLoader(train_dataset_mixmatch, batch_size=350, num_workers=16, shuffle=True)\n",
    "valid_loader = DataLoader(valid_dataset, num_workers=16, batch_size=300, shuffle=False)\n",
    "\n",
    "#model = Kaggle2(80).cuda()\n",
    "model = TinyJasper(256).cuda()\n",
    "\n",
    "model_dst = torch.nn.DataParallel(model, device_ids=[0, 1]).cuda()\n",
    "criterion = nn.BCEWithLogitsLoss().cuda()\n",
    "\n",
    "optimizer = Adam(params=model.parameters(), lr=1e-4)"
   ]
  },
  {
   "cell_type": "code",
   "execution_count": null,
   "metadata": {},
   "outputs": [],
   "source": [
    "hm.fit(train_loader, valid_loader, model_dst, criterion, optimizer, None, epoches=1000)"
   ]
  },
  {
   "cell_type": "code",
   "execution_count": null,
   "metadata": {},
   "outputs": [],
   "source": []
  }
 ],
 "metadata": {
  "kernelspec": {
   "display_name": "Python 3",
   "language": "python",
   "name": "python3"
  },
  "language_info": {
   "codemirror_mode": {
    "name": "ipython",
    "version": 3
   },
   "file_extension": ".py",
   "mimetype": "text/x-python",
   "name": "python",
   "nbconvert_exporter": "python",
   "pygments_lexer": "ipython3",
   "version": "3.6.8"
  }
 },
 "nbformat": 4,
 "nbformat_minor": 2
}
