{
 "cells": [
  {
   "cell_type": "code",
   "execution_count": 19,
   "metadata": {},
   "outputs": [
    {
     "name": "stdout",
     "output_type": "stream",
     "text": [
      "Collecting pygame\n",
      "\u001b[?25l  Downloading https://files.pythonhosted.org/packages/8e/24/ede6428359f913ed9cd1643dd5533aefeb5a2699cc95bea089de50ead586/pygame-1.9.6-cp36-cp36m-manylinux1_x86_64.whl (11.4MB)\n",
      "\u001b[K     |################################| 11.4MB 11.8MB/s \n",
      "\u001b[?25hInstalling collected packages: pygame\n",
      "Successfully installed pygame-1.9.6\n",
      "\u001b[33mWARNING: You are using pip version 19.1, however version 19.1.1 is available.\n",
      "You should consider upgrading via the 'pip install --upgrade pip' command.\u001b[0m\n",
      "Note: you may need to restart the kernel to use updated packages.\n",
      "Requirement already satisfied: scikit-sound in /opt/conda/lib/python3.6/site-packages (0.2.3)\n",
      "Requirement already satisfied: appdirs in /opt/conda/lib/python3.6/site-packages (from scikit-sound) (1.4.3)\n",
      "Requirement already satisfied: docutils>=0.3 in /opt/conda/lib/python3.6/site-packages (from scikit-sound) (0.14)\n",
      "\u001b[33mWARNING: You are using pip version 19.1, however version 19.1.1 is available.\n",
      "You should consider upgrading via the 'pip install --upgrade pip' command.\u001b[0m\n",
      "Note: you may need to restart the kernel to use updated packages.\n"
     ]
    }
   ],
   "source": [
    "%pip install pygame\n",
    "%pip install scikit-sound"
   ]
  },
  {
   "cell_type": "code",
   "execution_count": 26,
   "metadata": {},
   "outputs": [
    {
     "name": "stdout",
     "output_type": "stream",
     "text": [
      "Collecting package metadata: done\n",
      "Solving environment: failed\n",
      "\n",
      "PackagesNotFoundError: The following packages are not available from current channels:\n",
      "\n",
      "  - ffplay\n",
      "\n",
      "Current channels:\n",
      "\n",
      "  - https://repo.anaconda.com/pkgs/main/linux-64\n",
      "  - https://repo.anaconda.com/pkgs/main/noarch\n",
      "  - https://repo.anaconda.com/pkgs/free/linux-64\n",
      "  - https://repo.anaconda.com/pkgs/free/noarch\n",
      "  - https://repo.anaconda.com/pkgs/r/linux-64\n",
      "  - https://repo.anaconda.com/pkgs/r/noarch\n",
      "\n",
      "To search for alternate channels that may provide the conda package you're\n",
      "looking for, navigate to\n",
      "\n",
      "    https://anaconda.org\n",
      "\n",
      "and use the search bar at the top of the page.\n",
      "\n",
      "\n",
      "\n",
      "Note: you may need to restart the kernel to use updated packages.\n"
     ]
    }
   ],
   "source": [
    "%conda install ffplay"
   ]
  },
  {
   "cell_type": "code",
   "execution_count": 1,
   "metadata": {},
   "outputs": [],
   "source": [
    "import time\n",
    "import glob\n",
    "from IPython.display import Audio\n",
    "import logging\n",
    "from concurrent.futures import ThreadPoolExecutor\n",
    "from joblib import Parallel, delayed\n",
    "import time\n",
    "import logging\n",
    "from IPython.display import Audio\n",
    "\n",
    "from IDRnD.utils import *\n",
    "from IDRnD.augmentations import *\n",
    "from IDRnD.dataset import *\n",
    "from IDRnD.resnet import resnet50\n",
    "from IDRnD.focalloss import FocalLoss\n",
    "import numpy as np\n",
    "\n",
    "import torch\n",
    "from torch.optim import Adam, SGD\n",
    "from torch.optim.lr_scheduler import CosineAnnealingLR, CyclicLR, ReduceLROnPlateau\n",
    "from torch.utils.data import Dataset, DataLoader\n",
    "from torchvision.transforms import transforms\n",
    "\n",
    "from sklearn.model_selection import StratifiedKFold, train_test_split\n",
    "\n",
    "%reload_ext autoreload\n",
    "%autoreload 2\n",
    "%matplotlib inline\n",
    "\n",
    "seed_everything(0)\n",
    "logging.basicConfig(level=logging.DEBUG, filename=\"logs/logs.log\",\n",
    "                    filemode=\"w+\")"
   ]
  },
  {
   "cell_type": "code",
   "execution_count": 2,
   "metadata": {},
   "outputs": [],
   "source": [
    "X, y = get_train_data()\n",
    "X_train, X_val, y_train, y_val = train_test_split(X, y, test_size=0.2, random_state=42, stratify=y)"
   ]
  },
  {
   "cell_type": "code",
   "execution_count": 3,
   "metadata": {},
   "outputs": [],
   "source": [
    "train_transform = transforms.Compose([\n",
    "    #RandomParameter(VTLP, [[0.8, 1.2]], p=0.5),\n",
    "    #MinMaxChunkScaler(),\n",
    "    #Normalize(),\n",
    "    #RandomParameter(RandomNoise, [[0.01, 0.1]]),\n",
    "    #RandomParameter(Shift, [[2000, 32000]]),\n",
    "    #RandomParameter(TimeStretch, [[0.75, 1.3]]),\n",
    "    #RandomParameter(PitchShift, [[-8, 8]]),\n",
    "    #RandomParameter(Distortion, [[-1, -0.3], [.3, 1.]]),\n",
    "    ToMellSpec(n_mels=128),\n",
    "    #GetMFCC(),\n",
    "    #PadOrClip(320),\n",
    "    #Normalize(),\n",
    "    #ToTensor(),\n",
    "    #transforms.ToTensor(),\n",
    "])"
   ]
  },
  {
   "cell_type": "code",
   "execution_count": 4,
   "metadata": {},
   "outputs": [],
   "source": [
    "train_dataset = SimpleMelDataset(X, y, \"../data/files/raw_mels/\", train_transform)\n",
    "#val_dataset = Base_Dataset(X_val, y_val, train_transform)"
   ]
  },
  {
   "cell_type": "code",
   "execution_count": 6,
   "metadata": {},
   "outputs": [
    {
     "name": "stdout",
     "output_type": "stream",
     "text": [
      "\u001b[0m\u001b[01;34mclips\u001b[0m/       dev.tsv  invalidated.tsv  ru.tar.gz  train.tsv\n",
      "\u001b[01;34mclips_wavs\u001b[0m/  foo.wav  other.tsv        test.tsv   validated.tsv\n"
     ]
    }
   ],
   "source": [
    "ls /data_common_voices/ru/"
   ]
  },
  {
   "cell_type": "code",
   "execution_count": 31,
   "metadata": {},
   "outputs": [],
   "source": [
    "base_path = \"/data_common_voices/en/clips_wavs/\"\n",
    "common_voice_files = os.listdir(base_path)\n",
    "common = [os.path.join(base_path, file) for file in common_voice_files]\n",
    "common_dataset = BaseDataset(common, np.ones_like(common, dtype=np.int16), train_transform)"
   ]
  },
  {
   "cell_type": "code",
   "execution_count": 29,
   "metadata": {},
   "outputs": [],
   "source": [
    "for file in common_voice_files:\n",
    "    new_name = os.path.join(base_path, file.replace('.mp3.mp3', \".wav\"))\n",
    "    old_name = os.path.join(base_path, file)\n",
    "    os.rename(old_name, new_name)\n",
    "#os.rename()"
   ]
  },
  {
   "cell_type": "code",
   "execution_count": 32,
   "metadata": {},
   "outputs": [],
   "source": [
    "def precalculate_and_save_one_epoch(folder, run, dataset):\n",
    "    for sample in tqdm(range(len(dataset))):\n",
    "        k = dataset[sample][0]\n",
    "        name = f\"{run}_{sample}\"\n",
    "        path = os.path.join(folder, name)\n",
    "        np.save(path, k)"
   ]
  },
  {
   "cell_type": "code",
   "execution_count": 33,
   "metadata": {},
   "outputs": [],
   "source": [
    "def save_sample(sample, dataset, run, folder):\n",
    "    try:\n",
    "        k = dataset[sample][0]\n",
    "        name = dataset.X[sample].split(\"/\")[-1].split(\".\")[0]\n",
    "        #name = f\"{run}_{sample}\"\n",
    "        path = os.path.join(folder, name)\n",
    "        np.save(path, k)\n",
    "    except Exception as exp:\n",
    "        print(exp)"
   ]
  },
  {
   "cell_type": "code",
   "execution_count": 34,
   "metadata": {},
   "outputs": [],
   "source": [
    "def precalculate_and_save_one_epoch_parallel(run, folder, dataset):\n",
    "    before = time.time()\n",
    "    with ThreadPoolExecutor(max_workers=16) as executor:\n",
    "        for sample in range(len(dataset)):\n",
    "            future = executor.submit(save_sample, sample, dataset, run, folder)\n",
    "    \n",
    "    print(time.time() - before)"
   ]
  },
  {
   "cell_type": "code",
   "execution_count": 35,
   "metadata": {},
   "outputs": [],
   "source": [
    "def precalculate_and_save_one_epoch_joblib(run, folder, dataset):\n",
    "    Parallel(n_jobs=32, verbose=5, backend=\"multiprocessing\")(delayed(save_sample)(sample, dataset, run, folder)\n",
    "                        for sample in range(len(dataset)))"
   ]
  },
  {
   "cell_type": "markdown",
   "metadata": {},
   "source": [
    "!rm -rf ../data/files/raw_mels\n",
    "!rm -rf ../data/files/raw_mels_val"
   ]
  },
  {
   "cell_type": "raw",
   "metadata": {},
   "source": [
    "!mkdir ../data/files/raw_mels\n",
    "#!mkdir ../data/files/raw_mels_val"
   ]
  },
  {
   "cell_type": "code",
   "execution_count": 37,
   "metadata": {},
   "outputs": [
    {
     "name": "stderr",
     "output_type": "stream",
     "text": [
      "[Parallel(n_jobs=32)]: Using backend MultiprocessingBackend with 32 concurrent workers.\n",
      "[Parallel(n_jobs=32)]: Done   8 tasks      | elapsed:    0.2s\n",
      "[Parallel(n_jobs=32)]: Done 268 tasks      | elapsed:    1.8s\n",
      "[Parallel(n_jobs=32)]: Done 1024 tasks      | elapsed:    4.1s\n",
      "[Parallel(n_jobs=32)]: Done 1996 tasks      | elapsed:    7.1s\n",
      "[Parallel(n_jobs=32)]: Done 3184 tasks      | elapsed:   10.5s\n",
      "[Parallel(n_jobs=32)]: Done 4588 tasks      | elapsed:   14.7s\n",
      "[Parallel(n_jobs=32)]: Done 6208 tasks      | elapsed:   19.6s\n",
      "[Parallel(n_jobs=32)]: Done 8044 tasks      | elapsed:   25.0s\n",
      "[Parallel(n_jobs=32)]: Done 10096 tasks      | elapsed:   31.2s\n",
      "[Parallel(n_jobs=32)]: Done 12364 tasks      | elapsed:   37.9s\n",
      "[Parallel(n_jobs=32)]: Done 14848 tasks      | elapsed:   45.3s\n",
      "[Parallel(n_jobs=32)]: Done 17548 tasks      | elapsed:   53.3s\n",
      "[Parallel(n_jobs=32)]: Done 20464 tasks      | elapsed:  1.0min\n",
      "[Parallel(n_jobs=32)]: Done 23596 tasks      | elapsed:  1.2min\n",
      "[Parallel(n_jobs=32)]: Done 26944 tasks      | elapsed:  1.4min\n",
      "[Parallel(n_jobs=32)]: Done 30508 tasks      | elapsed:  1.5min\n",
      "[Parallel(n_jobs=32)]: Done 33433 tasks      | elapsed:  1.7min\n",
      "[Parallel(n_jobs=32)]: Done 35431 tasks      | elapsed:  1.9min\n",
      "[Parallel(n_jobs=32)]: Done 37537 tasks      | elapsed:  2.1min\n",
      "[Parallel(n_jobs=32)]: Done 39751 tasks      | elapsed:  2.3min\n",
      "[Parallel(n_jobs=32)]: Done 42073 tasks      | elapsed:  2.5min\n",
      "[Parallel(n_jobs=32)]: Done 44503 tasks      | elapsed:  2.7min\n",
      "[Parallel(n_jobs=32)]: Done 47041 tasks      | elapsed:  2.9min\n",
      "[Parallel(n_jobs=32)]: Done 49687 tasks      | elapsed:  3.2min\n",
      "[Parallel(n_jobs=32)]: Done 52441 tasks      | elapsed:  3.4min\n",
      "[Parallel(n_jobs=32)]: Done 55303 tasks      | elapsed:  3.7min\n",
      "[Parallel(n_jobs=32)]: Done 58273 tasks      | elapsed:  3.9min\n",
      "[Parallel(n_jobs=32)]: Done 61351 tasks      | elapsed:  4.2min\n",
      "[Parallel(n_jobs=32)]: Done 64537 tasks      | elapsed:  4.5min\n",
      "[Parallel(n_jobs=32)]: Done 67831 tasks      | elapsed:  4.8min\n",
      "[Parallel(n_jobs=32)]: Done 71233 tasks      | elapsed:  5.1min\n",
      "[Parallel(n_jobs=32)]: Done 71781 out of 71781 | elapsed:  5.1min finished\n"
     ]
    }
   ],
   "source": [
    "for num in range(0, 1):\n",
    "    precalculate_and_save_one_epoch_joblib(num, \"../data/files/raw_mels\", common_dataset)\n",
    "    #precalculate_and_save_one_epoch_joblib(num, \"../data/files/raw_mels_val\", val_dataset)"
   ]
  },
  {
   "cell_type": "code",
   "execution_count": 41,
   "metadata": {},
   "outputs": [
    {
     "data": {
      "text/plain": [
       "71781"
      ]
     },
     "execution_count": 41,
     "metadata": {},
     "output_type": "execute_result"
    }
   ],
   "source": [
    "len(common_dataset)"
   ]
  },
  {
   "cell_type": "code",
   "execution_count": null,
   "metadata": {},
   "outputs": [],
   "source": [
    "len(os.listdir(\"../data/files/raw_mels/\"))"
   ]
  }
 ],
 "metadata": {
  "kernelspec": {
   "display_name": "Python 3",
   "language": "python",
   "name": "python3"
  },
  "language_info": {
   "codemirror_mode": {
    "name": "ipython",
    "version": 3
   },
   "file_extension": ".py",
   "mimetype": "text/x-python",
   "name": "python",
   "nbconvert_exporter": "python",
   "pygments_lexer": "ipython3",
   "version": "3.6.8"
  }
 },
 "nbformat": 4,
 "nbformat_minor": 2
}
