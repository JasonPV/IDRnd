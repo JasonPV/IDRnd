{
 "cells": [
  {
   "cell_type": "code",
   "execution_count": null,
   "metadata": {},
   "outputs": [],
   "source": [
    "#1-person/human, 0-spoof"
   ]
  },
  {
   "cell_type": "code",
   "execution_count": 1,
   "metadata": {},
   "outputs": [],
   "source": [
    "import time\n",
    "import glob\n",
    "from IPython.display import Audio\n",
    "import logging\n",
    "from concurrent.futures import ThreadPoolExecutor\n",
    "from joblib import Parallel, delayed\n",
    "import time\n",
    "import logging\n",
    "from IPython.display import Audio\n",
    "from tqdm import tqdm\n",
    "import subprocess\n",
    "import pandas as pd\n",
    "\n",
    "from IDRnD.utils import *\n",
    "from IDRnD.augmentations import *\n",
    "from IDRnD.dataset import *\n",
    "from IDRnD.resnet import resnet50\n",
    "from IDRnD.focalloss import FocalLoss\n",
    "import numpy as np\n",
    "\n",
    "import torch\n",
    "from torch.optim import Adam, SGD\n",
    "from torch.optim.lr_scheduler import CosineAnnealingLR, CyclicLR, ReduceLROnPlateau\n",
    "from torch.utils.data import Dataset, DataLoader\n",
    "from torchvision.transforms import transforms\n",
    "\n",
    "from sklearn.model_selection import StratifiedKFold, train_test_split\n",
    "\n",
    "%reload_ext autoreload\n",
    "%autoreload 2\n",
    "%matplotlib inline\n",
    "\n",
    "seed_everything(0)\n",
    "logging.basicConfig(level=logging.DEBUG, filename=\"logs/logs.log\",\n",
    "                    filemode=\"w+\")"
   ]
  },
  {
   "cell_type": "code",
   "execution_count": 2,
   "metadata": {},
   "outputs": [],
   "source": [
    "train_transform = transforms.Compose([\n",
    "    #RandomParameter(VTLP, [[0.8, 1.2]], p=0.5),\n",
    "    #MinMaxChunkScaler(),\n",
    "    #Normalize(),\n",
    "    #RandomParameter(RandomNoise, [[0.01, 0.1]]),\n",
    "    #RandomParameter(Shift, [[2000, 32000]]),\n",
    "    #RandomParameter(TimeStretch, [[0.75, 1.3]]),\n",
    "    #RandomParameter(PitchShift, [[-8, 8]]),\n",
    "    #RandomParameter(Distortion, [[-1, -0.3], [.3, 1.]]),\n",
    "    ToMellSpec(n_mels=128),\n",
    "    #GetMFCC(),\n",
    "    #PadOrClip(320),\n",
    "    #Normalize(),\n",
    "    #ToTensor(),\n",
    "    #transforms.ToTensor(),\n",
    "])"
   ]
  },
  {
   "cell_type": "code",
   "execution_count": 5,
   "metadata": {},
   "outputs": [],
   "source": [
    "old_spoof1 = pd.read_csv(\"/data_spoof/CM_protocol/cm_train.trn\", sep = ' ', names=[\"folder\", \"filename\", \"wat\", \"class\"])\n",
    "old_spoof2 = pd.read_csv(\"/data_spoof/CM_protocol/cm_evaluation.ndx\", sep = ' ', names=[\"folder\", \"filename\", \"wat\", \"class\"])\n",
    "old_spoof3 = pd.read_csv(\"/data_spoof/CM_protocol/cm_develop.ndx\", sep = ' ', names=[\"folder\", \"filename\", \"wat\", \"class\"])\n",
    "old_spoof = pd.concat([old_spoof1, old_spoof2, old_spoof3])\n",
    "old_spoof.reset_index(drop=True, inplace=True)"
   ]
  },
  {
   "cell_type": "code",
   "execution_count": 3,
   "metadata": {},
   "outputs": [
    {
     "ename": "NameError",
     "evalue": "name 'old_spoof' is not defined",
     "output_type": "error",
     "traceback": [
      "\u001b[0;31m---------------------------------------------------------------------------\u001b[0m",
      "\u001b[0;31mNameError\u001b[0m                                 Traceback (most recent call last)",
      "\u001b[0;32m<ipython-input-3-7a30d5379a08>\u001b[0m in \u001b[0;36m<module>\u001b[0;34m\u001b[0m\n\u001b[1;32m      1\u001b[0m \u001b[0mbase_dir\u001b[0m \u001b[0;34m=\u001b[0m \u001b[0;34m\"/data_spoof/wav/\"\u001b[0m\u001b[0;34m\u001b[0m\u001b[0;34m\u001b[0m\u001b[0m\n\u001b[0;32m----> 2\u001b[0;31m \u001b[0mpathes\u001b[0m \u001b[0;34m=\u001b[0m \u001b[0mnp\u001b[0m\u001b[0;34m.\u001b[0m\u001b[0marray\u001b[0m\u001b[0;34m(\u001b[0m\u001b[0mold_spoof\u001b[0m\u001b[0;34m[\u001b[0m\u001b[0;34m[\u001b[0m\u001b[0;34m\"folder\"\u001b[0m\u001b[0;34m,\u001b[0m \u001b[0;34m\"filename\"\u001b[0m\u001b[0;34m]\u001b[0m\u001b[0;34m]\u001b[0m\u001b[0;34m.\u001b[0m\u001b[0mapply\u001b[0m\u001b[0;34m(\u001b[0m\u001b[0;32mlambda\u001b[0m \u001b[0mx\u001b[0m\u001b[0;34m:\u001b[0m\u001b[0mos\u001b[0m\u001b[0;34m.\u001b[0m\u001b[0mpath\u001b[0m\u001b[0;34m.\u001b[0m\u001b[0mjoin\u001b[0m\u001b[0;34m(\u001b[0m\u001b[0mbase_dir\u001b[0m\u001b[0;34m,\u001b[0m \u001b[0;34m*\u001b[0m\u001b[0mx\u001b[0m\u001b[0;34m)\u001b[0m\u001b[0;34m+\u001b[0m\u001b[0;34m\".wav\"\u001b[0m\u001b[0;34m,\u001b[0m \u001b[0maxis\u001b[0m\u001b[0;34m=\u001b[0m\u001b[0;36m1\u001b[0m\u001b[0;34m)\u001b[0m\u001b[0;34m)\u001b[0m\u001b[0;34m\u001b[0m\u001b[0;34m\u001b[0m\u001b[0m\n\u001b[0m\u001b[1;32m      3\u001b[0m \u001b[0mmaping\u001b[0m \u001b[0;34m=\u001b[0m \u001b[0;34m{\u001b[0m\u001b[0;34m\"spoof\"\u001b[0m\u001b[0;34m:\u001b[0m\u001b[0;36m0\u001b[0m\u001b[0;34m,\u001b[0m \u001b[0;34m\"human\"\u001b[0m\u001b[0;34m:\u001b[0m\u001b[0;36m1\u001b[0m\u001b[0;34m}\u001b[0m\u001b[0;34m\u001b[0m\u001b[0;34m\u001b[0m\u001b[0m\n\u001b[1;32m      4\u001b[0m \u001b[0mclasses\u001b[0m \u001b[0;34m=\u001b[0m \u001b[0mnp\u001b[0m\u001b[0;34m.\u001b[0m\u001b[0marray\u001b[0m\u001b[0;34m(\u001b[0m\u001b[0mold_spoof\u001b[0m\u001b[0;34m[\u001b[0m\u001b[0;34m\"class\"\u001b[0m\u001b[0;34m]\u001b[0m\u001b[0;34m.\u001b[0m\u001b[0mapply\u001b[0m\u001b[0;34m(\u001b[0m\u001b[0;32mlambda\u001b[0m \u001b[0mx\u001b[0m\u001b[0;34m:\u001b[0m \u001b[0mmaping\u001b[0m\u001b[0;34m[\u001b[0m\u001b[0mx\u001b[0m\u001b[0;34m]\u001b[0m\u001b[0;34m)\u001b[0m\u001b[0;34m)\u001b[0m\u001b[0;34m\u001b[0m\u001b[0;34m\u001b[0m\u001b[0m\n\u001b[1;32m      5\u001b[0m \u001b[0;34m\u001b[0m\u001b[0m\n",
      "\u001b[0;31mNameError\u001b[0m: name 'old_spoof' is not defined"
     ]
    }
   ],
   "source": [
    "base_dir = \"/data_spoof/wav/\"\n",
    "pathes = np.array(old_spoof[[\"folder\", \"filename\"]].apply(lambda x:os.path.join(base_dir, *x)+\".wav\", axis=1))\n",
    "maping = {\"spoof\":0, \"human\":1}\n",
    "classes = np.array(old_spoof[\"class\"].apply(lambda x: maping[x]))\n",
    "\n",
    "old_spoof_dataset = BaseDatasetScipy(pathes, classes, train_transform)"
   ]
  },
  {
   "cell_type": "code",
   "execution_count": 4,
   "metadata": {},
   "outputs": [],
   "source": [
    "base_path = \"/data_common_voices/en/clips_wavs/\"\n",
    "common_voice_files = os.listdir(base_path)\n",
    "common = [os.path.join(base_path, file) for file in common_voice_files]\n",
    "common_dataset = BaseDatasetScipy(common, np.ones_like(common, dtype=np.int16), train_transform)"
   ]
  },
  {
   "cell_type": "code",
   "execution_count": 5,
   "metadata": {},
   "outputs": [],
   "source": [
    "k = os.listdir(\"/data_common_voices/en/clips\")"
   ]
  },
  {
   "cell_type": "code",
   "execution_count": 6,
   "metadata": {},
   "outputs": [
    {
     "data": {
      "text/plain": [
       "914323"
      ]
     },
     "execution_count": 6,
     "metadata": {},
     "output_type": "execute_result"
    }
   ],
   "source": [
    "len(common_dataset)"
   ]
  },
  {
   "cell_type": "code",
   "execution_count": 7,
   "metadata": {},
   "outputs": [
    {
     "data": {
      "text/plain": [
       "896823"
      ]
     },
     "execution_count": 7,
     "metadata": {},
     "output_type": "execute_result"
    }
   ],
   "source": [
    "len(k)"
   ]
  },
  {
   "cell_type": "code",
   "execution_count": 27,
   "metadata": {},
   "outputs": [
    {
     "name": "stderr",
     "output_type": "stream",
     "text": [
      "[Parallel(n_jobs=200)]: Using backend ThreadingBackend with 200 concurrent workers.\n",
      "[Parallel(n_jobs=200)]: Done  50 tasks      | elapsed:    5.8s\n",
      "[Parallel(n_jobs=200)]: Done 248 tasks      | elapsed:    7.8s\n",
      "[Parallel(n_jobs=200)]: Done 482 tasks      | elapsed:   11.7s\n",
      "[Parallel(n_jobs=200)]: Done 752 tasks      | elapsed:   14.9s\n",
      "[Parallel(n_jobs=200)]: Done 1058 tasks      | elapsed:   19.0s\n",
      "[Parallel(n_jobs=200)]: Done 1400 tasks      | elapsed:   23.6s\n",
      "[Parallel(n_jobs=200)]: Done 1778 tasks      | elapsed:   28.4s\n",
      "[Parallel(n_jobs=200)]: Done 2192 tasks      | elapsed:   34.0s\n",
      "[Parallel(n_jobs=200)]: Done 2642 tasks      | elapsed:   34.8s\n"
     ]
    },
    {
     "ename": "KeyboardInterrupt",
     "evalue": "",
     "output_type": "error",
     "traceback": [
      "\u001b[0;31m---------------------------------------------------------------------------\u001b[0m",
      "\u001b[0;31mKeyboardInterrupt\u001b[0m                         Traceback (most recent call last)",
      "\u001b[0;32m<ipython-input-27-5d81e6f1a74b>\u001b[0m in \u001b[0;36m<module>\u001b[0;34m\u001b[0m\n\u001b[0;32m----> 1\u001b[0;31m \u001b[0mParallel\u001b[0m\u001b[0;34m(\u001b[0m\u001b[0mn_jobs\u001b[0m\u001b[0;34m=\u001b[0m\u001b[0;36m200\u001b[0m\u001b[0;34m,\u001b[0m \u001b[0mverbose\u001b[0m\u001b[0;34m=\u001b[0m\u001b[0;36m5\u001b[0m\u001b[0;34m,\u001b[0m \u001b[0mbackend\u001b[0m\u001b[0;34m=\u001b[0m\u001b[0;34m\"threading\"\u001b[0m\u001b[0;34m)\u001b[0m\u001b[0;34m(\u001b[0m\u001b[0mdelayed\u001b[0m\u001b[0;34m(\u001b[0m\u001b[0mapu\u001b[0m\u001b[0;34m.\u001b[0m\u001b[0mconvert_to_wav\u001b[0m\u001b[0;34m)\u001b[0m\u001b[0;34m(\u001b[0m\u001b[0mfile\u001b[0m\u001b[0;34m)\u001b[0m \u001b[0;32mfor\u001b[0m \u001b[0mfile\u001b[0m \u001b[0;32min\u001b[0m \u001b[0mcommon_voice_files\u001b[0m\u001b[0;34m)\u001b[0m\u001b[0;34m\u001b[0m\u001b[0;34m\u001b[0m\u001b[0m\n\u001b[0m",
      "\u001b[0;32m/opt/conda/lib/python3.6/site-packages/joblib/parallel.py\u001b[0m in \u001b[0;36m__call__\u001b[0;34m(self, iterable)\u001b[0m\n\u001b[1;32m    932\u001b[0m \u001b[0;34m\u001b[0m\u001b[0m\n\u001b[1;32m    933\u001b[0m             \u001b[0;32mwith\u001b[0m \u001b[0mself\u001b[0m\u001b[0;34m.\u001b[0m\u001b[0m_backend\u001b[0m\u001b[0;34m.\u001b[0m\u001b[0mretrieval_context\u001b[0m\u001b[0;34m(\u001b[0m\u001b[0;34m)\u001b[0m\u001b[0;34m:\u001b[0m\u001b[0;34m\u001b[0m\u001b[0;34m\u001b[0m\u001b[0m\n\u001b[0;32m--> 934\u001b[0;31m                 \u001b[0mself\u001b[0m\u001b[0;34m.\u001b[0m\u001b[0mretrieve\u001b[0m\u001b[0;34m(\u001b[0m\u001b[0;34m)\u001b[0m\u001b[0;34m\u001b[0m\u001b[0;34m\u001b[0m\u001b[0m\n\u001b[0m\u001b[1;32m    935\u001b[0m             \u001b[0;31m# Make sure that we get a last message telling us we are done\u001b[0m\u001b[0;34m\u001b[0m\u001b[0;34m\u001b[0m\u001b[0;34m\u001b[0m\u001b[0m\n\u001b[1;32m    936\u001b[0m             \u001b[0melapsed_time\u001b[0m \u001b[0;34m=\u001b[0m \u001b[0mtime\u001b[0m\u001b[0;34m.\u001b[0m\u001b[0mtime\u001b[0m\u001b[0;34m(\u001b[0m\u001b[0;34m)\u001b[0m \u001b[0;34m-\u001b[0m \u001b[0mself\u001b[0m\u001b[0;34m.\u001b[0m\u001b[0m_start_time\u001b[0m\u001b[0;34m\u001b[0m\u001b[0;34m\u001b[0m\u001b[0m\n",
      "\u001b[0;32m/opt/conda/lib/python3.6/site-packages/joblib/parallel.py\u001b[0m in \u001b[0;36mretrieve\u001b[0;34m(self)\u001b[0m\n\u001b[1;32m    831\u001b[0m             \u001b[0;32mtry\u001b[0m\u001b[0;34m:\u001b[0m\u001b[0;34m\u001b[0m\u001b[0;34m\u001b[0m\u001b[0m\n\u001b[1;32m    832\u001b[0m                 \u001b[0;32mif\u001b[0m \u001b[0mgetattr\u001b[0m\u001b[0;34m(\u001b[0m\u001b[0mself\u001b[0m\u001b[0;34m.\u001b[0m\u001b[0m_backend\u001b[0m\u001b[0;34m,\u001b[0m \u001b[0;34m'supports_timeout'\u001b[0m\u001b[0;34m,\u001b[0m \u001b[0;32mFalse\u001b[0m\u001b[0;34m)\u001b[0m\u001b[0;34m:\u001b[0m\u001b[0;34m\u001b[0m\u001b[0;34m\u001b[0m\u001b[0m\n\u001b[0;32m--> 833\u001b[0;31m                     \u001b[0mself\u001b[0m\u001b[0;34m.\u001b[0m\u001b[0m_output\u001b[0m\u001b[0;34m.\u001b[0m\u001b[0mextend\u001b[0m\u001b[0;34m(\u001b[0m\u001b[0mjob\u001b[0m\u001b[0;34m.\u001b[0m\u001b[0mget\u001b[0m\u001b[0;34m(\u001b[0m\u001b[0mtimeout\u001b[0m\u001b[0;34m=\u001b[0m\u001b[0mself\u001b[0m\u001b[0;34m.\u001b[0m\u001b[0mtimeout\u001b[0m\u001b[0;34m)\u001b[0m\u001b[0;34m)\u001b[0m\u001b[0;34m\u001b[0m\u001b[0;34m\u001b[0m\u001b[0m\n\u001b[0m\u001b[1;32m    834\u001b[0m                 \u001b[0;32melse\u001b[0m\u001b[0;34m:\u001b[0m\u001b[0;34m\u001b[0m\u001b[0;34m\u001b[0m\u001b[0m\n\u001b[1;32m    835\u001b[0m                     \u001b[0mself\u001b[0m\u001b[0;34m.\u001b[0m\u001b[0m_output\u001b[0m\u001b[0;34m.\u001b[0m\u001b[0mextend\u001b[0m\u001b[0;34m(\u001b[0m\u001b[0mjob\u001b[0m\u001b[0;34m.\u001b[0m\u001b[0mget\u001b[0m\u001b[0;34m(\u001b[0m\u001b[0;34m)\u001b[0m\u001b[0;34m)\u001b[0m\u001b[0;34m\u001b[0m\u001b[0;34m\u001b[0m\u001b[0m\n",
      "\u001b[0;32m/opt/conda/lib/python3.6/multiprocessing/pool.py\u001b[0m in \u001b[0;36mget\u001b[0;34m(self, timeout)\u001b[0m\n\u001b[1;32m    636\u001b[0m \u001b[0;34m\u001b[0m\u001b[0m\n\u001b[1;32m    637\u001b[0m     \u001b[0;32mdef\u001b[0m \u001b[0mget\u001b[0m\u001b[0;34m(\u001b[0m\u001b[0mself\u001b[0m\u001b[0;34m,\u001b[0m \u001b[0mtimeout\u001b[0m\u001b[0;34m=\u001b[0m\u001b[0;32mNone\u001b[0m\u001b[0;34m)\u001b[0m\u001b[0;34m:\u001b[0m\u001b[0;34m\u001b[0m\u001b[0;34m\u001b[0m\u001b[0m\n\u001b[0;32m--> 638\u001b[0;31m         \u001b[0mself\u001b[0m\u001b[0;34m.\u001b[0m\u001b[0mwait\u001b[0m\u001b[0;34m(\u001b[0m\u001b[0mtimeout\u001b[0m\u001b[0;34m)\u001b[0m\u001b[0;34m\u001b[0m\u001b[0;34m\u001b[0m\u001b[0m\n\u001b[0m\u001b[1;32m    639\u001b[0m         \u001b[0;32mif\u001b[0m \u001b[0;32mnot\u001b[0m \u001b[0mself\u001b[0m\u001b[0;34m.\u001b[0m\u001b[0mready\u001b[0m\u001b[0;34m(\u001b[0m\u001b[0;34m)\u001b[0m\u001b[0;34m:\u001b[0m\u001b[0;34m\u001b[0m\u001b[0;34m\u001b[0m\u001b[0m\n\u001b[1;32m    640\u001b[0m             \u001b[0;32mraise\u001b[0m \u001b[0mTimeoutError\u001b[0m\u001b[0;34m\u001b[0m\u001b[0;34m\u001b[0m\u001b[0m\n",
      "\u001b[0;32m/opt/conda/lib/python3.6/multiprocessing/pool.py\u001b[0m in \u001b[0;36mwait\u001b[0;34m(self, timeout)\u001b[0m\n\u001b[1;32m    633\u001b[0m \u001b[0;34m\u001b[0m\u001b[0m\n\u001b[1;32m    634\u001b[0m     \u001b[0;32mdef\u001b[0m \u001b[0mwait\u001b[0m\u001b[0;34m(\u001b[0m\u001b[0mself\u001b[0m\u001b[0;34m,\u001b[0m \u001b[0mtimeout\u001b[0m\u001b[0;34m=\u001b[0m\u001b[0;32mNone\u001b[0m\u001b[0;34m)\u001b[0m\u001b[0;34m:\u001b[0m\u001b[0;34m\u001b[0m\u001b[0;34m\u001b[0m\u001b[0m\n\u001b[0;32m--> 635\u001b[0;31m         \u001b[0mself\u001b[0m\u001b[0;34m.\u001b[0m\u001b[0m_event\u001b[0m\u001b[0;34m.\u001b[0m\u001b[0mwait\u001b[0m\u001b[0;34m(\u001b[0m\u001b[0mtimeout\u001b[0m\u001b[0;34m)\u001b[0m\u001b[0;34m\u001b[0m\u001b[0;34m\u001b[0m\u001b[0m\n\u001b[0m\u001b[1;32m    636\u001b[0m \u001b[0;34m\u001b[0m\u001b[0m\n\u001b[1;32m    637\u001b[0m     \u001b[0;32mdef\u001b[0m \u001b[0mget\u001b[0m\u001b[0;34m(\u001b[0m\u001b[0mself\u001b[0m\u001b[0;34m,\u001b[0m \u001b[0mtimeout\u001b[0m\u001b[0;34m=\u001b[0m\u001b[0;32mNone\u001b[0m\u001b[0;34m)\u001b[0m\u001b[0;34m:\u001b[0m\u001b[0;34m\u001b[0m\u001b[0;34m\u001b[0m\u001b[0m\n",
      "\u001b[0;32m/opt/conda/lib/python3.6/threading.py\u001b[0m in \u001b[0;36mwait\u001b[0;34m(self, timeout)\u001b[0m\n\u001b[1;32m    549\u001b[0m             \u001b[0msignaled\u001b[0m \u001b[0;34m=\u001b[0m \u001b[0mself\u001b[0m\u001b[0;34m.\u001b[0m\u001b[0m_flag\u001b[0m\u001b[0;34m\u001b[0m\u001b[0;34m\u001b[0m\u001b[0m\n\u001b[1;32m    550\u001b[0m             \u001b[0;32mif\u001b[0m \u001b[0;32mnot\u001b[0m \u001b[0msignaled\u001b[0m\u001b[0;34m:\u001b[0m\u001b[0;34m\u001b[0m\u001b[0;34m\u001b[0m\u001b[0m\n\u001b[0;32m--> 551\u001b[0;31m                 \u001b[0msignaled\u001b[0m \u001b[0;34m=\u001b[0m \u001b[0mself\u001b[0m\u001b[0;34m.\u001b[0m\u001b[0m_cond\u001b[0m\u001b[0;34m.\u001b[0m\u001b[0mwait\u001b[0m\u001b[0;34m(\u001b[0m\u001b[0mtimeout\u001b[0m\u001b[0;34m)\u001b[0m\u001b[0;34m\u001b[0m\u001b[0;34m\u001b[0m\u001b[0m\n\u001b[0m\u001b[1;32m    552\u001b[0m             \u001b[0;32mreturn\u001b[0m \u001b[0msignaled\u001b[0m\u001b[0;34m\u001b[0m\u001b[0;34m\u001b[0m\u001b[0m\n\u001b[1;32m    553\u001b[0m \u001b[0;34m\u001b[0m\u001b[0m\n",
      "\u001b[0;32m/opt/conda/lib/python3.6/threading.py\u001b[0m in \u001b[0;36mwait\u001b[0;34m(self, timeout)\u001b[0m\n\u001b[1;32m    293\u001b[0m         \u001b[0;32mtry\u001b[0m\u001b[0;34m:\u001b[0m    \u001b[0;31m# restore state no matter what (e.g., KeyboardInterrupt)\u001b[0m\u001b[0;34m\u001b[0m\u001b[0;34m\u001b[0m\u001b[0m\n\u001b[1;32m    294\u001b[0m             \u001b[0;32mif\u001b[0m \u001b[0mtimeout\u001b[0m \u001b[0;32mis\u001b[0m \u001b[0;32mNone\u001b[0m\u001b[0;34m:\u001b[0m\u001b[0;34m\u001b[0m\u001b[0;34m\u001b[0m\u001b[0m\n\u001b[0;32m--> 295\u001b[0;31m                 \u001b[0mwaiter\u001b[0m\u001b[0;34m.\u001b[0m\u001b[0macquire\u001b[0m\u001b[0;34m(\u001b[0m\u001b[0;34m)\u001b[0m\u001b[0;34m\u001b[0m\u001b[0;34m\u001b[0m\u001b[0m\n\u001b[0m\u001b[1;32m    296\u001b[0m                 \u001b[0mgotit\u001b[0m \u001b[0;34m=\u001b[0m \u001b[0;32mTrue\u001b[0m\u001b[0;34m\u001b[0m\u001b[0;34m\u001b[0m\u001b[0m\n\u001b[1;32m    297\u001b[0m             \u001b[0;32melse\u001b[0m\u001b[0;34m:\u001b[0m\u001b[0;34m\u001b[0m\u001b[0;34m\u001b[0m\u001b[0m\n",
      "\u001b[0;31mKeyboardInterrupt\u001b[0m: "
     ]
    }
   ],
   "source": [
    "Parallel(n_jobs=16, verbose=5, backend=\"multiprocessing\")(delayed(apu.convert_to_wav)(file) for file in common_voice_files)"
   ]
  },
  {
   "cell_type": "code",
   "execution_count": 9,
   "metadata": {},
   "outputs": [],
   "source": [
    "def move_file(file):\n",
    "    new_name = os.path.join(base_path, file.replace('.mp3.mp3', \".wav\"))\n",
    "    old_name = os.path.join(base_path, file)\n",
    "    os.rename(old_name, new_name)"
   ]
  },
  {
   "cell_type": "code",
   "execution_count": 11,
   "metadata": {},
   "outputs": [
    {
     "name": "stdout",
     "output_type": "stream",
     "text": [
      "914323\n"
     ]
    },
    {
     "name": "stderr",
     "output_type": "stream",
     "text": [
      "[Parallel(n_jobs=16)]: Using backend LokyBackend with 16 concurrent workers.\n",
      "[Parallel(n_jobs=16)]: Done  42 tasks      | elapsed:    0.6s\n",
      "[Parallel(n_jobs=16)]: Done 1404 tasks      | elapsed:    1.3s\n"
     ]
    },
    {
     "ename": "KeyboardInterrupt",
     "evalue": "",
     "output_type": "error",
     "traceback": [
      "\u001b[0;31m---------------------------------------------------------------------------\u001b[0m",
      "\u001b[0;31mKeyboardInterrupt\u001b[0m                         Traceback (most recent call last)",
      "\u001b[0;32m/opt/conda/lib/python3.6/site-packages/joblib/parallel.py\u001b[0m in \u001b[0;36mretrieve\u001b[0;34m(self)\u001b[0m\n\u001b[1;32m    832\u001b[0m                 \u001b[0;32mif\u001b[0m \u001b[0mgetattr\u001b[0m\u001b[0;34m(\u001b[0m\u001b[0mself\u001b[0m\u001b[0;34m.\u001b[0m\u001b[0m_backend\u001b[0m\u001b[0;34m,\u001b[0m \u001b[0;34m'supports_timeout'\u001b[0m\u001b[0;34m,\u001b[0m \u001b[0;32mFalse\u001b[0m\u001b[0;34m)\u001b[0m\u001b[0;34m:\u001b[0m\u001b[0;34m\u001b[0m\u001b[0;34m\u001b[0m\u001b[0m\n\u001b[0;32m--> 833\u001b[0;31m                     \u001b[0mself\u001b[0m\u001b[0;34m.\u001b[0m\u001b[0m_output\u001b[0m\u001b[0;34m.\u001b[0m\u001b[0mextend\u001b[0m\u001b[0;34m(\u001b[0m\u001b[0mjob\u001b[0m\u001b[0;34m.\u001b[0m\u001b[0mget\u001b[0m\u001b[0;34m(\u001b[0m\u001b[0mtimeout\u001b[0m\u001b[0;34m=\u001b[0m\u001b[0mself\u001b[0m\u001b[0;34m.\u001b[0m\u001b[0mtimeout\u001b[0m\u001b[0;34m)\u001b[0m\u001b[0;34m)\u001b[0m\u001b[0;34m\u001b[0m\u001b[0;34m\u001b[0m\u001b[0m\n\u001b[0m\u001b[1;32m    834\u001b[0m                 \u001b[0;32melse\u001b[0m\u001b[0;34m:\u001b[0m\u001b[0;34m\u001b[0m\u001b[0;34m\u001b[0m\u001b[0m\n",
      "\u001b[0;32m/opt/conda/lib/python3.6/site-packages/joblib/_parallel_backends.py\u001b[0m in \u001b[0;36mwrap_future_result\u001b[0;34m(future, timeout)\u001b[0m\n\u001b[1;32m    520\u001b[0m         \u001b[0;32mtry\u001b[0m\u001b[0;34m:\u001b[0m\u001b[0;34m\u001b[0m\u001b[0;34m\u001b[0m\u001b[0m\n\u001b[0;32m--> 521\u001b[0;31m             \u001b[0;32mreturn\u001b[0m \u001b[0mfuture\u001b[0m\u001b[0;34m.\u001b[0m\u001b[0mresult\u001b[0m\u001b[0;34m(\u001b[0m\u001b[0mtimeout\u001b[0m\u001b[0;34m=\u001b[0m\u001b[0mtimeout\u001b[0m\u001b[0;34m)\u001b[0m\u001b[0;34m\u001b[0m\u001b[0;34m\u001b[0m\u001b[0m\n\u001b[0m\u001b[1;32m    522\u001b[0m         \u001b[0;32mexcept\u001b[0m \u001b[0mLokyTimeoutError\u001b[0m\u001b[0;34m:\u001b[0m\u001b[0;34m\u001b[0m\u001b[0;34m\u001b[0m\u001b[0m\n",
      "\u001b[0;32m/opt/conda/lib/python3.6/concurrent/futures/_base.py\u001b[0m in \u001b[0;36mresult\u001b[0;34m(self, timeout)\u001b[0m\n\u001b[1;32m    426\u001b[0m \u001b[0;34m\u001b[0m\u001b[0m\n\u001b[0;32m--> 427\u001b[0;31m             \u001b[0mself\u001b[0m\u001b[0;34m.\u001b[0m\u001b[0m_condition\u001b[0m\u001b[0;34m.\u001b[0m\u001b[0mwait\u001b[0m\u001b[0;34m(\u001b[0m\u001b[0mtimeout\u001b[0m\u001b[0;34m)\u001b[0m\u001b[0;34m\u001b[0m\u001b[0;34m\u001b[0m\u001b[0m\n\u001b[0m\u001b[1;32m    428\u001b[0m \u001b[0;34m\u001b[0m\u001b[0m\n",
      "\u001b[0;32m/opt/conda/lib/python3.6/threading.py\u001b[0m in \u001b[0;36mwait\u001b[0;34m(self, timeout)\u001b[0m\n\u001b[1;32m    294\u001b[0m             \u001b[0;32mif\u001b[0m \u001b[0mtimeout\u001b[0m \u001b[0;32mis\u001b[0m \u001b[0;32mNone\u001b[0m\u001b[0;34m:\u001b[0m\u001b[0;34m\u001b[0m\u001b[0;34m\u001b[0m\u001b[0m\n\u001b[0;32m--> 295\u001b[0;31m                 \u001b[0mwaiter\u001b[0m\u001b[0;34m.\u001b[0m\u001b[0macquire\u001b[0m\u001b[0;34m(\u001b[0m\u001b[0;34m)\u001b[0m\u001b[0;34m\u001b[0m\u001b[0;34m\u001b[0m\u001b[0m\n\u001b[0m\u001b[1;32m    296\u001b[0m                 \u001b[0mgotit\u001b[0m \u001b[0;34m=\u001b[0m \u001b[0;32mTrue\u001b[0m\u001b[0;34m\u001b[0m\u001b[0;34m\u001b[0m\u001b[0m\n",
      "\u001b[0;31mKeyboardInterrupt\u001b[0m: ",
      "\nDuring handling of the above exception, another exception occurred:\n",
      "\u001b[0;31mKeyboardInterrupt\u001b[0m                         Traceback (most recent call last)",
      "\u001b[0;32m<ipython-input-11-645f38faff77>\u001b[0m in \u001b[0;36m<module>\u001b[0;34m\u001b[0m\n\u001b[1;32m      1\u001b[0m \u001b[0mprint\u001b[0m\u001b[0;34m(\u001b[0m\u001b[0mlen\u001b[0m\u001b[0;34m(\u001b[0m\u001b[0mcommon_dataset\u001b[0m\u001b[0;34m)\u001b[0m\u001b[0;34m)\u001b[0m\u001b[0;34m\u001b[0m\u001b[0;34m\u001b[0m\u001b[0m\n\u001b[0;32m----> 2\u001b[0;31m \u001b[0mParallel\u001b[0m\u001b[0;34m(\u001b[0m\u001b[0mn_jobs\u001b[0m\u001b[0;34m=\u001b[0m\u001b[0;36m16\u001b[0m\u001b[0;34m,\u001b[0m \u001b[0mverbose\u001b[0m\u001b[0;34m=\u001b[0m\u001b[0;36m5\u001b[0m\u001b[0;34m)\u001b[0m\u001b[0;34m(\u001b[0m\u001b[0mdelayed\u001b[0m\u001b[0;34m(\u001b[0m\u001b[0mmove_file\u001b[0m\u001b[0;34m)\u001b[0m\u001b[0;34m(\u001b[0m\u001b[0mfile\u001b[0m\u001b[0;34m)\u001b[0m \u001b[0;32mfor\u001b[0m \u001b[0mfile\u001b[0m \u001b[0;32min\u001b[0m \u001b[0mcommon_voice_files\u001b[0m\u001b[0;34m)\u001b[0m\u001b[0;34m\u001b[0m\u001b[0;34m\u001b[0m\u001b[0m\n\u001b[0m",
      "\u001b[0;32m/opt/conda/lib/python3.6/site-packages/joblib/parallel.py\u001b[0m in \u001b[0;36m__call__\u001b[0;34m(self, iterable)\u001b[0m\n\u001b[1;32m    932\u001b[0m \u001b[0;34m\u001b[0m\u001b[0m\n\u001b[1;32m    933\u001b[0m             \u001b[0;32mwith\u001b[0m \u001b[0mself\u001b[0m\u001b[0;34m.\u001b[0m\u001b[0m_backend\u001b[0m\u001b[0;34m.\u001b[0m\u001b[0mretrieval_context\u001b[0m\u001b[0;34m(\u001b[0m\u001b[0;34m)\u001b[0m\u001b[0;34m:\u001b[0m\u001b[0;34m\u001b[0m\u001b[0;34m\u001b[0m\u001b[0m\n\u001b[0;32m--> 934\u001b[0;31m                 \u001b[0mself\u001b[0m\u001b[0;34m.\u001b[0m\u001b[0mretrieve\u001b[0m\u001b[0;34m(\u001b[0m\u001b[0;34m)\u001b[0m\u001b[0;34m\u001b[0m\u001b[0;34m\u001b[0m\u001b[0m\n\u001b[0m\u001b[1;32m    935\u001b[0m             \u001b[0;31m# Make sure that we get a last message telling us we are done\u001b[0m\u001b[0;34m\u001b[0m\u001b[0;34m\u001b[0m\u001b[0;34m\u001b[0m\u001b[0m\n\u001b[1;32m    936\u001b[0m             \u001b[0melapsed_time\u001b[0m \u001b[0;34m=\u001b[0m \u001b[0mtime\u001b[0m\u001b[0;34m.\u001b[0m\u001b[0mtime\u001b[0m\u001b[0;34m(\u001b[0m\u001b[0;34m)\u001b[0m \u001b[0;34m-\u001b[0m \u001b[0mself\u001b[0m\u001b[0;34m.\u001b[0m\u001b[0m_start_time\u001b[0m\u001b[0;34m\u001b[0m\u001b[0;34m\u001b[0m\u001b[0m\n",
      "\u001b[0;32m/opt/conda/lib/python3.6/site-packages/joblib/parallel.py\u001b[0m in \u001b[0;36mretrieve\u001b[0;34m(self)\u001b[0m\n\u001b[1;32m    853\u001b[0m                     \u001b[0;31m# scheduling.\u001b[0m\u001b[0;34m\u001b[0m\u001b[0;34m\u001b[0m\u001b[0;34m\u001b[0m\u001b[0m\n\u001b[1;32m    854\u001b[0m                     \u001b[0mensure_ready\u001b[0m \u001b[0;34m=\u001b[0m \u001b[0mself\u001b[0m\u001b[0;34m.\u001b[0m\u001b[0m_managed_backend\u001b[0m\u001b[0;34m\u001b[0m\u001b[0;34m\u001b[0m\u001b[0m\n\u001b[0;32m--> 855\u001b[0;31m                     \u001b[0mbackend\u001b[0m\u001b[0;34m.\u001b[0m\u001b[0mabort_everything\u001b[0m\u001b[0;34m(\u001b[0m\u001b[0mensure_ready\u001b[0m\u001b[0;34m=\u001b[0m\u001b[0mensure_ready\u001b[0m\u001b[0;34m)\u001b[0m\u001b[0;34m\u001b[0m\u001b[0;34m\u001b[0m\u001b[0m\n\u001b[0m\u001b[1;32m    856\u001b[0m \u001b[0;34m\u001b[0m\u001b[0m\n\u001b[1;32m    857\u001b[0m                 \u001b[0;32mif\u001b[0m \u001b[0misinstance\u001b[0m\u001b[0;34m(\u001b[0m\u001b[0mexception\u001b[0m\u001b[0;34m,\u001b[0m \u001b[0mTransportableException\u001b[0m\u001b[0;34m)\u001b[0m\u001b[0;34m:\u001b[0m\u001b[0;34m\u001b[0m\u001b[0;34m\u001b[0m\u001b[0m\n",
      "\u001b[0;32m/opt/conda/lib/python3.6/site-packages/joblib/_parallel_backends.py\u001b[0m in \u001b[0;36mabort_everything\u001b[0;34m(self, ensure_ready)\u001b[0m\n\u001b[1;32m    536\u001b[0m         \"\"\"Shutdown the workers and restart a new one with the same parameters\n\u001b[1;32m    537\u001b[0m         \"\"\"\n\u001b[0;32m--> 538\u001b[0;31m         \u001b[0mself\u001b[0m\u001b[0;34m.\u001b[0m\u001b[0m_workers\u001b[0m\u001b[0;34m.\u001b[0m\u001b[0mshutdown\u001b[0m\u001b[0;34m(\u001b[0m\u001b[0mkill_workers\u001b[0m\u001b[0;34m=\u001b[0m\u001b[0;32mTrue\u001b[0m\u001b[0;34m)\u001b[0m\u001b[0;34m\u001b[0m\u001b[0;34m\u001b[0m\u001b[0m\n\u001b[0m\u001b[1;32m    539\u001b[0m         \u001b[0mdelete_folder\u001b[0m\u001b[0;34m(\u001b[0m\u001b[0mself\u001b[0m\u001b[0;34m.\u001b[0m\u001b[0m_workers\u001b[0m\u001b[0;34m.\u001b[0m\u001b[0m_temp_folder\u001b[0m\u001b[0;34m)\u001b[0m\u001b[0;34m\u001b[0m\u001b[0;34m\u001b[0m\u001b[0m\n\u001b[1;32m    540\u001b[0m         \u001b[0mself\u001b[0m\u001b[0;34m.\u001b[0m\u001b[0m_workers\u001b[0m \u001b[0;34m=\u001b[0m \u001b[0;32mNone\u001b[0m\u001b[0;34m\u001b[0m\u001b[0;34m\u001b[0m\u001b[0m\n",
      "\u001b[0;32m/opt/conda/lib/python3.6/site-packages/joblib/externals/loky/process_executor.py\u001b[0m in \u001b[0;36mshutdown\u001b[0;34m(self, wait, kill_workers)\u001b[0m\n\u001b[1;32m   1094\u001b[0m                     \u001b[0;32mpass\u001b[0m\u001b[0;34m\u001b[0m\u001b[0;34m\u001b[0m\u001b[0m\n\u001b[1;32m   1095\u001b[0m             \u001b[0;32mif\u001b[0m \u001b[0mwait\u001b[0m\u001b[0;34m:\u001b[0m\u001b[0;34m\u001b[0m\u001b[0;34m\u001b[0m\u001b[0m\n\u001b[0;32m-> 1096\u001b[0;31m                 \u001b[0mqmt\u001b[0m\u001b[0;34m.\u001b[0m\u001b[0mjoin\u001b[0m\u001b[0;34m(\u001b[0m\u001b[0;34m)\u001b[0m\u001b[0;34m\u001b[0m\u001b[0;34m\u001b[0m\u001b[0m\n\u001b[0m\u001b[1;32m   1097\u001b[0m \u001b[0;34m\u001b[0m\u001b[0m\n\u001b[1;32m   1098\u001b[0m         \u001b[0mcq\u001b[0m \u001b[0;34m=\u001b[0m \u001b[0mself\u001b[0m\u001b[0;34m.\u001b[0m\u001b[0m_call_queue\u001b[0m\u001b[0;34m\u001b[0m\u001b[0;34m\u001b[0m\u001b[0m\n",
      "\u001b[0;32m/opt/conda/lib/python3.6/threading.py\u001b[0m in \u001b[0;36mjoin\u001b[0;34m(self, timeout)\u001b[0m\n\u001b[1;32m   1054\u001b[0m \u001b[0;34m\u001b[0m\u001b[0m\n\u001b[1;32m   1055\u001b[0m         \u001b[0;32mif\u001b[0m \u001b[0mtimeout\u001b[0m \u001b[0;32mis\u001b[0m \u001b[0;32mNone\u001b[0m\u001b[0;34m:\u001b[0m\u001b[0;34m\u001b[0m\u001b[0;34m\u001b[0m\u001b[0m\n\u001b[0;32m-> 1056\u001b[0;31m             \u001b[0mself\u001b[0m\u001b[0;34m.\u001b[0m\u001b[0m_wait_for_tstate_lock\u001b[0m\u001b[0;34m(\u001b[0m\u001b[0;34m)\u001b[0m\u001b[0;34m\u001b[0m\u001b[0;34m\u001b[0m\u001b[0m\n\u001b[0m\u001b[1;32m   1057\u001b[0m         \u001b[0;32melse\u001b[0m\u001b[0;34m:\u001b[0m\u001b[0;34m\u001b[0m\u001b[0;34m\u001b[0m\u001b[0m\n\u001b[1;32m   1058\u001b[0m             \u001b[0;31m# the behavior of a negative timeout isn't documented, but\u001b[0m\u001b[0;34m\u001b[0m\u001b[0;34m\u001b[0m\u001b[0;34m\u001b[0m\u001b[0m\n",
      "\u001b[0;32m/opt/conda/lib/python3.6/threading.py\u001b[0m in \u001b[0;36m_wait_for_tstate_lock\u001b[0;34m(self, block, timeout)\u001b[0m\n\u001b[1;32m   1070\u001b[0m         \u001b[0;32mif\u001b[0m \u001b[0mlock\u001b[0m \u001b[0;32mis\u001b[0m \u001b[0;32mNone\u001b[0m\u001b[0;34m:\u001b[0m  \u001b[0;31m# already determined that the C code is done\u001b[0m\u001b[0;34m\u001b[0m\u001b[0;34m\u001b[0m\u001b[0m\n\u001b[1;32m   1071\u001b[0m             \u001b[0;32massert\u001b[0m \u001b[0mself\u001b[0m\u001b[0;34m.\u001b[0m\u001b[0m_is_stopped\u001b[0m\u001b[0;34m\u001b[0m\u001b[0;34m\u001b[0m\u001b[0m\n\u001b[0;32m-> 1072\u001b[0;31m         \u001b[0;32melif\u001b[0m \u001b[0mlock\u001b[0m\u001b[0;34m.\u001b[0m\u001b[0macquire\u001b[0m\u001b[0;34m(\u001b[0m\u001b[0mblock\u001b[0m\u001b[0;34m,\u001b[0m \u001b[0mtimeout\u001b[0m\u001b[0;34m)\u001b[0m\u001b[0;34m:\u001b[0m\u001b[0;34m\u001b[0m\u001b[0;34m\u001b[0m\u001b[0m\n\u001b[0m\u001b[1;32m   1073\u001b[0m             \u001b[0mlock\u001b[0m\u001b[0;34m.\u001b[0m\u001b[0mrelease\u001b[0m\u001b[0;34m(\u001b[0m\u001b[0;34m)\u001b[0m\u001b[0;34m\u001b[0m\u001b[0;34m\u001b[0m\u001b[0m\n\u001b[1;32m   1074\u001b[0m             \u001b[0mself\u001b[0m\u001b[0;34m.\u001b[0m\u001b[0m_stop\u001b[0m\u001b[0;34m(\u001b[0m\u001b[0;34m)\u001b[0m\u001b[0;34m\u001b[0m\u001b[0;34m\u001b[0m\u001b[0m\n",
      "\u001b[0;31mKeyboardInterrupt\u001b[0m: "
     ]
    }
   ],
   "source": [
    "print(len(common_dataset))\n",
    "Parallel(n_jobs=16, verbose=5)(delayed(move_file)(file) for file in common_voice_files)"
   ]
  },
  {
   "cell_type": "code",
   "execution_count": 10,
   "metadata": {},
   "outputs": [],
   "source": [
    "def precalculate_and_save_one_epoch(folder, run, dataset):\n",
    "    for sample in tqdm(range(len(dataset))):\n",
    "        k = dataset[sample][0]\n",
    "        name = f\"{run}_{sample}\"\n",
    "        path = os.path.join(folder, name)\n",
    "        np.save(path, k)"
   ]
  },
  {
   "cell_type": "code",
   "execution_count": 11,
   "metadata": {},
   "outputs": [],
   "source": [
    "def save_sample(sample, folder):\n",
    "    try:\n",
    "        k = common_dataset[sample][0]#TODO\n",
    "        name = common_dataset.X[sample].split(\"/\")[-1].split(\".\")[0]\n",
    "        #name = f\"{run}_{sample}\"\n",
    "        path = os.path.join(folder, name)\n",
    "        np.save(path, k)\n",
    "    except Exception as exp:\n",
    "        print(exp)"
   ]
  },
  {
   "cell_type": "code",
   "execution_count": 12,
   "metadata": {},
   "outputs": [],
   "source": [
    "def precalculate_and_save_one_epoch_parallel(run, folder, dataset):\n",
    "    before = time.time()\n",
    "    with ThreadPoolExecutor(max_workers=16) as executor:\n",
    "        for sample in range(len(dataset)):\n",
    "            future = executor.submit(save_sample, sample, dataset, run, folder)\n",
    "    \n",
    "    print(time.time() - before)"
   ]
  },
  {
   "cell_type": "code",
   "execution_count": 13,
   "metadata": {},
   "outputs": [],
   "source": [
    "def precalculate_and_save_one_epoch_joblib(folder, dataset):\n",
    "    Parallel(n_jobs=16, verbose=5, backend=\"multiprocessing\")(delayed(save_sample)(sample, folder)\n",
    "                        for sample in range(len(dataset)))"
   ]
  },
  {
   "cell_type": "markdown",
   "metadata": {},
   "source": [
    "!rm -rf ../data/files/raw_mels\n",
    "!rm -rf ../data/files/raw_mels_val"
   ]
  },
  {
   "cell_type": "raw",
   "metadata": {},
   "source": [
    "!mkdir ../data/files/raw_mels\n",
    "#!mkdir ../data/files/raw_mels_val"
   ]
  },
  {
   "cell_type": "code",
   "execution_count": null,
   "metadata": {},
   "outputs": [
    {
     "name": "stderr",
     "output_type": "stream",
     "text": [
      "[Parallel(n_jobs=16)]: Using backend MultiprocessingBackend with 16 concurrent workers.\n",
      "[Parallel(n_jobs=16)]: Done 128 tasks      | elapsed:    0.4s\n",
      "[Parallel(n_jobs=16)]: Done 1208 tasks      | elapsed:    2.1s\n",
      "[Parallel(n_jobs=16)]: Done 2720 tasks      | elapsed:    4.8s\n",
      "[Parallel(n_jobs=16)]: Done 4664 tasks      | elapsed:    7.8s\n",
      "[Parallel(n_jobs=16)]: Done 7040 tasks      | elapsed:   11.8s\n",
      "[Parallel(n_jobs=16)]: Done 9848 tasks      | elapsed:   16.2s\n",
      "[Parallel(n_jobs=16)]: Done 13088 tasks      | elapsed:   21.6s\n"
     ]
    },
    {
     "name": "stdout",
     "output_type": "stream",
     "text": [
      "There aren't any elements to reflect in axis 0 of `array`\n"
     ]
    },
    {
     "name": "stderr",
     "output_type": "stream",
     "text": [
      "[Parallel(n_jobs=16)]: Done 16682 tasks      | elapsed:   32.9s\n",
      "[Parallel(n_jobs=16)]: Done 17762 tasks      | elapsed:   43.6s\n",
      "[Parallel(n_jobs=16)]: Done 18896 tasks      | elapsed:   55.1s\n",
      "[Parallel(n_jobs=16)]: Done 20138 tasks      | elapsed:  1.1min\n",
      "[Parallel(n_jobs=16)]: Done 21488 tasks      | elapsed:  1.4min\n",
      "[Parallel(n_jobs=16)]: Done 22946 tasks      | elapsed:  1.6min\n",
      "[Parallel(n_jobs=16)]: Done 24512 tasks      | elapsed:  1.9min\n",
      "[Parallel(n_jobs=16)]: Done 26186 tasks      | elapsed:  2.2min\n",
      "[Parallel(n_jobs=16)]: Done 27968 tasks      | elapsed:  2.5min\n",
      "[Parallel(n_jobs=16)]: Done 29858 tasks      | elapsed:  2.8min\n",
      "[Parallel(n_jobs=16)]: Done 31856 tasks      | elapsed:  3.2min\n",
      "[Parallel(n_jobs=16)]: Done 33962 tasks      | elapsed:  3.5min\n",
      "[Parallel(n_jobs=16)]: Done 36176 tasks      | elapsed:  3.9min\n",
      "[Parallel(n_jobs=16)]: Done 37794 tasks      | elapsed:  4.2min\n",
      "[Parallel(n_jobs=16)]: Done 38604 tasks      | elapsed:  4.3min\n",
      "[Parallel(n_jobs=16)]: Done 39450 tasks      | elapsed:  4.5min\n",
      "[Parallel(n_jobs=16)]: Done 40332 tasks      | elapsed:  4.6min\n",
      "[Parallel(n_jobs=16)]: Done 41250 tasks      | elapsed:  4.8min\n",
      "[Parallel(n_jobs=16)]: Done 42204 tasks      | elapsed:  4.9min\n",
      "[Parallel(n_jobs=16)]: Done 43194 tasks      | elapsed:  5.1min\n",
      "[Parallel(n_jobs=16)]: Done 44220 tasks      | elapsed:  5.3min\n",
      "[Parallel(n_jobs=16)]: Done 45282 tasks      | elapsed:  5.5min\n",
      "[Parallel(n_jobs=16)]: Done 46380 tasks      | elapsed:  5.7min\n",
      "[Parallel(n_jobs=16)]: Done 47514 tasks      | elapsed:  5.9min\n",
      "[Parallel(n_jobs=16)]: Done 48684 tasks      | elapsed:  6.1min\n",
      "[Parallel(n_jobs=16)]: Done 49890 tasks      | elapsed:  6.3min\n",
      "[Parallel(n_jobs=16)]: Done 51132 tasks      | elapsed:  6.5min\n",
      "[Parallel(n_jobs=16)]: Done 52410 tasks      | elapsed:  6.7min\n",
      "[Parallel(n_jobs=16)]: Done 53724 tasks      | elapsed:  6.9min\n",
      "[Parallel(n_jobs=16)]: Done 55074 tasks      | elapsed:  7.2min\n",
      "[Parallel(n_jobs=16)]: Done 56460 tasks      | elapsed:  7.4min\n",
      "[Parallel(n_jobs=16)]: Done 57882 tasks      | elapsed:  7.6min\n",
      "[Parallel(n_jobs=16)]: Done 59340 tasks      | elapsed:  7.9min\n",
      "[Parallel(n_jobs=16)]: Done 60834 tasks      | elapsed:  8.2min\n",
      "[Parallel(n_jobs=16)]: Done 62364 tasks      | elapsed:  8.4min\n",
      "[Parallel(n_jobs=16)]: Done 63930 tasks      | elapsed:  8.7min\n",
      "[Parallel(n_jobs=16)]: Done 65532 tasks      | elapsed:  9.0min\n",
      "[Parallel(n_jobs=16)]: Done 67170 tasks      | elapsed:  9.3min\n",
      "[Parallel(n_jobs=16)]: Done 68844 tasks      | elapsed:  9.6min\n",
      "[Parallel(n_jobs=16)]: Done 70554 tasks      | elapsed:  9.9min\n",
      "[Parallel(n_jobs=16)]: Done 72300 tasks      | elapsed: 10.2min\n",
      "[Parallel(n_jobs=16)]: Done 74082 tasks      | elapsed: 10.5min\n",
      "[Parallel(n_jobs=16)]: Done 75900 tasks      | elapsed: 10.8min\n",
      "[Parallel(n_jobs=16)]: Done 77754 tasks      | elapsed: 11.1min\n",
      "[Parallel(n_jobs=16)]: Done 79644 tasks      | elapsed: 11.4min\n",
      "[Parallel(n_jobs=16)]: Done 81570 tasks      | elapsed: 11.8min\n",
      "[Parallel(n_jobs=16)]: Done 83532 tasks      | elapsed: 12.1min\n",
      "[Parallel(n_jobs=16)]: Done 85530 tasks      | elapsed: 12.5min\n",
      "[Parallel(n_jobs=16)]: Done 87564 tasks      | elapsed: 12.8min\n",
      "[Parallel(n_jobs=16)]: Done 89634 tasks      | elapsed: 13.2min\n",
      "[Parallel(n_jobs=16)]: Done 91740 tasks      | elapsed: 13.5min\n",
      "[Parallel(n_jobs=16)]: Done 93882 tasks      | elapsed: 13.9min\n",
      "[Parallel(n_jobs=16)]: Done 96060 tasks      | elapsed: 14.3min\n",
      "[Parallel(n_jobs=16)]: Done 98274 tasks      | elapsed: 14.7min\n",
      "[Parallel(n_jobs=16)]: Done 100524 tasks      | elapsed: 15.1min\n",
      "[Parallel(n_jobs=16)]: Done 102810 tasks      | elapsed: 15.5min\n",
      "[Parallel(n_jobs=16)]: Done 105132 tasks      | elapsed: 15.9min\n",
      "[Parallel(n_jobs=16)]: Done 107490 tasks      | elapsed: 16.4min\n",
      "[Parallel(n_jobs=16)]: Done 109884 tasks      | elapsed: 16.8min\n",
      "[Parallel(n_jobs=16)]: Done 112314 tasks      | elapsed: 17.3min\n",
      "[Parallel(n_jobs=16)]: Done 114780 tasks      | elapsed: 17.7min\n",
      "[Parallel(n_jobs=16)]: Done 117282 tasks      | elapsed: 18.2min\n",
      "[Parallel(n_jobs=16)]: Done 119820 tasks      | elapsed: 18.6min\n",
      "[Parallel(n_jobs=16)]: Done 122394 tasks      | elapsed: 19.1min\n",
      "[Parallel(n_jobs=16)]: Done 125004 tasks      | elapsed: 19.6min\n",
      "[Parallel(n_jobs=16)]: Done 127650 tasks      | elapsed: 20.0min\n",
      "[Parallel(n_jobs=16)]: Done 130332 tasks      | elapsed: 20.5min\n",
      "[Parallel(n_jobs=16)]: Done 133050 tasks      | elapsed: 21.0min\n",
      "[Parallel(n_jobs=16)]: Done 135804 tasks      | elapsed: 21.5min\n",
      "[Parallel(n_jobs=16)]: Done 138594 tasks      | elapsed: 22.0min\n",
      "[Parallel(n_jobs=16)]: Done 141420 tasks      | elapsed: 22.5min\n",
      "[Parallel(n_jobs=16)]: Done 144282 tasks      | elapsed: 23.0min\n",
      "[Parallel(n_jobs=16)]: Done 147180 tasks      | elapsed: 23.5min\n",
      "[Parallel(n_jobs=16)]: Done 150114 tasks      | elapsed: 24.0min\n",
      "[Parallel(n_jobs=16)]: Done 153084 tasks      | elapsed: 24.5min\n",
      "[Parallel(n_jobs=16)]: Done 156090 tasks      | elapsed: 25.1min\n",
      "[Parallel(n_jobs=16)]: Done 159132 tasks      | elapsed: 25.6min\n",
      "[Parallel(n_jobs=16)]: Done 162210 tasks      | elapsed: 26.2min\n",
      "[Parallel(n_jobs=16)]: Done 165324 tasks      | elapsed: 26.7min\n",
      "[Parallel(n_jobs=16)]: Done 168474 tasks      | elapsed: 27.3min\n",
      "[Parallel(n_jobs=16)]: Done 171660 tasks      | elapsed: 27.8min\n",
      "[Parallel(n_jobs=16)]: Done 174882 tasks      | elapsed: 28.4min\n",
      "[Parallel(n_jobs=16)]: Done 178140 tasks      | elapsed: 29.0min\n",
      "[Parallel(n_jobs=16)]: Done 181434 tasks      | elapsed: 29.6min\n",
      "[Parallel(n_jobs=16)]: Done 184764 tasks      | elapsed: 30.2min\n",
      "[Parallel(n_jobs=16)]: Done 188130 tasks      | elapsed: 30.8min\n",
      "[Parallel(n_jobs=16)]: Done 191532 tasks      | elapsed: 31.4min\n",
      "[Parallel(n_jobs=16)]: Done 194970 tasks      | elapsed: 32.0min\n",
      "[Parallel(n_jobs=16)]: Done 198444 tasks      | elapsed: 32.6min\n",
      "[Parallel(n_jobs=16)]: Done 201954 tasks      | elapsed: 33.2min\n",
      "[Parallel(n_jobs=16)]: Done 205500 tasks      | elapsed: 33.9min\n",
      "[Parallel(n_jobs=16)]: Done 209082 tasks      | elapsed: 34.5min\n"
     ]
    },
    {
     "name": "stdout",
     "output_type": "stream",
     "text": [
      "There aren't any elements to reflect in axis 0 of `array`\n"
     ]
    },
    {
     "name": "stderr",
     "output_type": "stream",
     "text": [
      "[Parallel(n_jobs=16)]: Done 212700 tasks      | elapsed: 35.1min\n",
      "[Parallel(n_jobs=16)]: Done 216354 tasks      | elapsed: 35.8min\n",
      "[Parallel(n_jobs=16)]: Done 220044 tasks      | elapsed: 36.4min\n",
      "[Parallel(n_jobs=16)]: Done 223770 tasks      | elapsed: 37.1min\n",
      "[Parallel(n_jobs=16)]: Done 227532 tasks      | elapsed: 37.8min\n",
      "[Parallel(n_jobs=16)]: Done 231330 tasks      | elapsed: 38.4min\n",
      "[Parallel(n_jobs=16)]: Done 235164 tasks      | elapsed: 39.1min\n",
      "[Parallel(n_jobs=16)]: Done 239034 tasks      | elapsed: 39.8min\n",
      "[Parallel(n_jobs=16)]: Done 242940 tasks      | elapsed: 40.5min\n",
      "[Parallel(n_jobs=16)]: Done 246882 tasks      | elapsed: 41.2min\n",
      "[Parallel(n_jobs=16)]: Done 250860 tasks      | elapsed: 41.9min\n",
      "[Parallel(n_jobs=16)]: Done 254874 tasks      | elapsed: 42.6min\n",
      "[Parallel(n_jobs=16)]: Done 258924 tasks      | elapsed: 43.3min\n",
      "[Parallel(n_jobs=16)]: Done 263010 tasks      | elapsed: 44.0min\n",
      "[Parallel(n_jobs=16)]: Done 267132 tasks      | elapsed: 44.8min\n",
      "[Parallel(n_jobs=16)]: Done 274416 tasks      | elapsed: 46.1min\n",
      "[Parallel(n_jobs=16)]: Done 280641 tasks      | elapsed: 47.3min\n",
      "[Parallel(n_jobs=16)]: Done 284871 tasks      | elapsed: 48.1min\n",
      "[Parallel(n_jobs=16)]: Done 289137 tasks      | elapsed: 48.9min\n",
      "[Parallel(n_jobs=16)]: Done 293439 tasks      | elapsed: 49.6min\n",
      "[Parallel(n_jobs=16)]: Done 297777 tasks      | elapsed: 50.4min\n",
      "[Parallel(n_jobs=16)]: Done 302151 tasks      | elapsed: 51.2min\n",
      "[Parallel(n_jobs=16)]: Done 306561 tasks      | elapsed: 51.9min\n",
      "[Parallel(n_jobs=16)]: Done 311007 tasks      | elapsed: 52.7min\n",
      "[Parallel(n_jobs=16)]: Done 315489 tasks      | elapsed: 53.5min\n",
      "[Parallel(n_jobs=16)]: Done 320007 tasks      | elapsed: 54.3min\n",
      "[Parallel(n_jobs=16)]: Done 324561 tasks      | elapsed: 55.1min\n",
      "[Parallel(n_jobs=16)]: Done 329151 tasks      | elapsed: 55.9min\n",
      "[Parallel(n_jobs=16)]: Done 333777 tasks      | elapsed: 56.7min\n",
      "[Parallel(n_jobs=16)]: Done 338439 tasks      | elapsed: 57.6min\n",
      "[Parallel(n_jobs=16)]: Done 343137 tasks      | elapsed: 58.4min\n",
      "[Parallel(n_jobs=16)]: Done 347871 tasks      | elapsed: 59.2min\n",
      "[Parallel(n_jobs=16)]: Done 352641 tasks      | elapsed: 60.1min\n",
      "[Parallel(n_jobs=16)]: Done 357447 tasks      | elapsed: 60.9min\n",
      "[Parallel(n_jobs=16)]: Done 362289 tasks      | elapsed: 61.8min\n",
      "[Parallel(n_jobs=16)]: Done 367167 tasks      | elapsed: 62.7min\n",
      "[Parallel(n_jobs=16)]: Done 372081 tasks      | elapsed: 63.5min\n",
      "[Parallel(n_jobs=16)]: Done 377031 tasks      | elapsed: 64.4min\n",
      "[Parallel(n_jobs=16)]: Done 382017 tasks      | elapsed: 65.3min\n",
      "[Parallel(n_jobs=16)]: Done 387039 tasks      | elapsed: 66.2min\n",
      "[Parallel(n_jobs=16)]: Done 392097 tasks      | elapsed: 67.1min\n",
      "[Parallel(n_jobs=16)]: Done 397191 tasks      | elapsed: 68.0min\n",
      "[Parallel(n_jobs=16)]: Done 402321 tasks      | elapsed: 68.9min\n",
      "[Parallel(n_jobs=16)]: Done 407487 tasks      | elapsed: 69.8min\n",
      "[Parallel(n_jobs=16)]: Done 412689 tasks      | elapsed: 70.7min\n",
      "[Parallel(n_jobs=16)]: Done 417927 tasks      | elapsed: 71.6min\n",
      "[Parallel(n_jobs=16)]: Done 423201 tasks      | elapsed: 72.6min\n",
      "[Parallel(n_jobs=16)]: Done 428511 tasks      | elapsed: 73.6min\n",
      "[Parallel(n_jobs=16)]: Done 433857 tasks      | elapsed: 74.5min\n",
      "[Parallel(n_jobs=16)]: Done 439239 tasks      | elapsed: 75.5min\n",
      "[Parallel(n_jobs=16)]: Done 444657 tasks      | elapsed: 76.4min\n",
      "[Parallel(n_jobs=16)]: Done 450111 tasks      | elapsed: 77.4min\n",
      "[Parallel(n_jobs=16)]: Done 455601 tasks      | elapsed: 78.4min\n",
      "[Parallel(n_jobs=16)]: Done 461127 tasks      | elapsed: 79.3min\n",
      "[Parallel(n_jobs=16)]: Done 466689 tasks      | elapsed: 80.3min\n",
      "[Parallel(n_jobs=16)]: Done 472287 tasks      | elapsed: 81.3min\n",
      "[Parallel(n_jobs=16)]: Done 477921 tasks      | elapsed: 82.3min\n",
      "[Parallel(n_jobs=16)]: Done 483591 tasks      | elapsed: 83.3min\n",
      "[Parallel(n_jobs=16)]: Done 489297 tasks      | elapsed: 84.3min\n"
     ]
    },
    {
     "name": "stdout",
     "output_type": "stream",
     "text": [
      "There aren't any elements to reflect in axis 0 of `array`\n"
     ]
    },
    {
     "name": "stderr",
     "output_type": "stream",
     "text": [
      "[Parallel(n_jobs=16)]: Done 495039 tasks      | elapsed: 85.4min\n",
      "[Parallel(n_jobs=16)]: Done 500817 tasks      | elapsed: 86.4min\n",
      "[Parallel(n_jobs=16)]: Done 506631 tasks      | elapsed: 87.4min\n"
     ]
    },
    {
     "name": "stdout",
     "output_type": "stream",
     "text": [
      "There aren't any elements to reflect in axis 0 of `array`\n"
     ]
    },
    {
     "name": "stderr",
     "output_type": "stream",
     "text": [
      "[Parallel(n_jobs=16)]: Done 512481 tasks      | elapsed: 88.5min\n",
      "[Parallel(n_jobs=16)]: Done 518367 tasks      | elapsed: 89.5min\n",
      "[Parallel(n_jobs=16)]: Done 524289 tasks      | elapsed: 90.6min\n",
      "[Parallel(n_jobs=16)]: Done 530247 tasks      | elapsed: 91.6min\n"
     ]
    },
    {
     "name": "stdout",
     "output_type": "stream",
     "text": [
      "There aren't any elements to reflect in axis 0 of `array`\n"
     ]
    },
    {
     "name": "stderr",
     "output_type": "stream",
     "text": [
      "[Parallel(n_jobs=16)]: Done 536241 tasks      | elapsed: 92.7min\n",
      "[Parallel(n_jobs=16)]: Done 542271 tasks      | elapsed: 93.8min\n",
      "[Parallel(n_jobs=16)]: Done 548337 tasks      | elapsed: 94.8min\n",
      "[Parallel(n_jobs=16)]: Done 554439 tasks      | elapsed: 95.9min\n",
      "[Parallel(n_jobs=16)]: Done 560577 tasks      | elapsed: 97.0min\n",
      "[Parallel(n_jobs=16)]: Done 566751 tasks      | elapsed: 98.1min\n",
      "[Parallel(n_jobs=16)]: Done 572961 tasks      | elapsed: 99.2min\n",
      "[Parallel(n_jobs=16)]: Done 579207 tasks      | elapsed: 100.3min\n",
      "[Parallel(n_jobs=16)]: Done 585489 tasks      | elapsed: 101.4min\n",
      "[Parallel(n_jobs=16)]: Done 591807 tasks      | elapsed: 102.6min\n",
      "[Parallel(n_jobs=16)]: Done 598161 tasks      | elapsed: 103.7min\n",
      "[Parallel(n_jobs=16)]: Done 604551 tasks      | elapsed: 104.8min\n",
      "[Parallel(n_jobs=16)]: Done 610977 tasks      | elapsed: 106.0min\n",
      "[Parallel(n_jobs=16)]: Done 617439 tasks      | elapsed: 107.2min\n",
      "[Parallel(n_jobs=16)]: Done 623937 tasks      | elapsed: 108.7min\n",
      "[Parallel(n_jobs=16)]: Done 630471 tasks      | elapsed: 109.8min\n"
     ]
    },
    {
     "name": "stdout",
     "output_type": "stream",
     "text": [
      "There aren't any elements to reflect in axis 0 of `array`\n"
     ]
    },
    {
     "name": "stderr",
     "output_type": "stream",
     "text": [
      "[Parallel(n_jobs=16)]: Done 637041 tasks      | elapsed: 111.0min\n",
      "[Parallel(n_jobs=16)]: Done 643647 tasks      | elapsed: 112.2min\n",
      "[Parallel(n_jobs=16)]: Done 650289 tasks      | elapsed: 113.4min\n",
      "[Parallel(n_jobs=16)]: Done 656967 tasks      | elapsed: 114.6min\n",
      "[Parallel(n_jobs=16)]: Done 663681 tasks      | elapsed: 115.8min\n",
      "[Parallel(n_jobs=16)]: Done 670431 tasks      | elapsed: 117.0min\n"
     ]
    },
    {
     "name": "stdout",
     "output_type": "stream",
     "text": [
      "There aren't any elements to reflect in axis 0 of `array`\n"
     ]
    },
    {
     "name": "stderr",
     "output_type": "stream",
     "text": [
      "[Parallel(n_jobs=16)]: Done 677217 tasks      | elapsed: 118.2min\n",
      "[Parallel(n_jobs=16)]: Done 684039 tasks      | elapsed: 119.4min\n",
      "[Parallel(n_jobs=16)]: Done 690897 tasks      | elapsed: 120.6min\n",
      "[Parallel(n_jobs=16)]: Done 697791 tasks      | elapsed: 121.8min\n",
      "[Parallel(n_jobs=16)]: Done 704721 tasks      | elapsed: 123.0min\n",
      "[Parallel(n_jobs=16)]: Done 711687 tasks      | elapsed: 124.3min\n",
      "[Parallel(n_jobs=16)]: Done 718689 tasks      | elapsed: 125.5min\n"
     ]
    }
   ],
   "source": [
    "for num in range(0, 1):\n",
    "    precalculate_and_save_one_epoch_joblib(\"../data/files/raw_mels\", common_dataset)\n",
    "    #precalculate_and_save_one_epoch_joblib(num, \"../data/files/raw_mels_val\", val_dataset)"
   ]
  },
  {
   "cell_type": "code",
   "execution_count": 15,
   "metadata": {},
   "outputs": [
    {
     "data": {
      "text/plain": [
       "914323"
      ]
     },
     "execution_count": 15,
     "metadata": {},
     "output_type": "execute_result"
    }
   ],
   "source": [
    "len(common_dataset)"
   ]
  },
  {
   "cell_type": "code",
   "execution_count": null,
   "metadata": {},
   "outputs": [],
   "source": [
    "len(os.listdir(\"../data/files/raw_mels/\"))"
   ]
  }
 ],
 "metadata": {
  "kernelspec": {
   "display_name": "Python 3",
   "language": "python",
   "name": "python3"
  },
  "language_info": {
   "codemirror_mode": {
    "name": "ipython",
    "version": 3
   },
   "file_extension": ".py",
   "mimetype": "text/x-python",
   "name": "python",
   "nbconvert_exporter": "python",
   "pygments_lexer": "ipython3",
   "version": "3.6.8"
  }
 },
 "nbformat": 4,
 "nbformat_minor": 2
}
