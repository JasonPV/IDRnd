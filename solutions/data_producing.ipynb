{
 "cells": [
  {
   "cell_type": "code",
   "execution_count": 1,
   "metadata": {},
   "outputs": [],
   "source": [
    "import time\n",
    "from IPython.display import Audio\n",
    "import logging\n",
    "from concurrent.futures import ThreadPoolExecutor\n",
    "\n",
    "from Freesound.data import *\n",
    "from Freesound.utils import *\n",
    "from Freesound.model import *\n",
    "from Freesound.augmentations import *\n",
    "\n",
    "import numpy as np\n",
    "from iterstrat.ml_stratifiers import MultilabelStratifiedKFold\n",
    "\n",
    "import torch\n",
    "from torch.optim import Adam, SGD\n",
    "from torch.optim.lr_scheduler import CosineAnnealingLR, CyclicLR\n",
    "from torch.utils.data import Dataset, DataLoader\n",
    "from torchvision.transforms import transforms\n",
    "\n",
    "%reload_ext autoreload\n",
    "%autoreload 2\n",
    "\n",
    "seed_everything(0)\n",
    "logging.basicConfig(level=logging.DEBUG, filename=\"logs/logs.log\", filemode=\"w+\")"
   ]
  },
  {
   "cell_type": "code",
   "execution_count": 2,
   "metadata": {},
   "outputs": [],
   "source": [
    "names, y_curated_np, y_noisy_np, train_curated, train_noisy, _, _ = get_tables()\n",
    "\n",
    "train_audio = load_audio(1, False, 'Freesound/pickles/train_audio_44100.pkl')\n",
    "train_audio.pop(534)\n",
    "y_curated_np = np.delete(y_curated_np, 534, axis=0)\n",
    "train_curated.drop(534, axis=0, inplace=True)\n",
    "train_audio = np.array(train_audio)\n",
    "\n",
    "mskf = MultilabelStratifiedKFold(n_splits=5, random_state=0)\n",
    "train_index, test_index = next(mskf.split(y_curated_np, y_curated_np))\n",
    "X_train, X_val = train_audio[train_index], train_audio[test_index]\n",
    "y_train, y_val = y_curated_np[train_index], y_curated_np[test_index]"
   ]
  },
  {
   "cell_type": "code",
   "execution_count": 3,
   "metadata": {},
   "outputs": [],
   "source": [
    "train_transform = transforms.Compose([\n",
    "    #RandomParameter(VTLP, [[0.8, 1.2]], p=0.5),\n",
    "    #MinMaxChunkScaler(),\n",
    "    #Normalize(),\n",
    "    RandomParameter(RandomNoise, [[0.01, 0.1]]),\n",
    "    #RandomParameter(Shift, [[2000, 32000]]),\n",
    "    RandomParameter(TimeStretch, [[0.75, 1.3]]),\n",
    "    #RandomParameter(PitchShift, [[-8, 8]]),\n",
    "    #RandomParameter(Distortion, [[-1, -0.3], [.3, 1.]]),\n",
    "    ToMellSpec(n_mels=256),\n",
    "    #GetMFCC(),\n",
    "    #PadOrClip(300),\n",
    "    #Normalize(),\n",
    "    #ToTensor(),\n",
    "    #transforms.ToTensor(),\n",
    "])"
   ]
  },
  {
   "cell_type": "code",
   "execution_count": 4,
   "metadata": {},
   "outputs": [],
   "source": [
    "mskf = MultilabelStratifiedKFold(n_splits=5, random_state=0)\n",
    "\n",
    "train_index, test_index = next(mskf.split(y_curated_np, y_curated_np))\n",
    "X_train, X_val = train_audio[train_index], train_audio[test_index]\n",
    "y_train, y_val = y_curated_np[train_index], y_curated_np[test_index]"
   ]
  },
  {
   "cell_type": "code",
   "execution_count": 5,
   "metadata": {},
   "outputs": [],
   "source": [
    "##train\n",
    "train_dataset = Dataset_Train(X_train, y_train, train_transform, preload=True)\n",
    "valid_dataset = Dataset_Train(X_val, y_val, train_transform, preload=True)"
   ]
  },
  {
   "cell_type": "code",
   "execution_count": 6,
   "metadata": {},
   "outputs": [],
   "source": [
    "def precalculate_and_save_one_epoch(folder, run, dataset):\n",
    "    for sample in tqdm(range(len(dataset))):\n",
    "        k = dataset[sample][0]\n",
    "        name = f\"{run}_{sample}\"\n",
    "        path = os.path.join(folder, name)\n",
    "        np.save(path, k)"
   ]
  },
  {
   "cell_type": "code",
   "execution_count": 7,
   "metadata": {},
   "outputs": [],
   "source": [
    "def save_sample(sample, dataset, run, folder):\n",
    "    k = dataset[sample][0]\n",
    "    name = f\"{run}_{sample}\"\n",
    "    path = os.path.join(folder, name)\n",
    "    np.save(path, k)"
   ]
  },
  {
   "cell_type": "code",
   "execution_count": 8,
   "metadata": {},
   "outputs": [],
   "source": [
    "def precalculate_and_save_one_epoch_parallel(run, folder, dataset):\n",
    "    before = time.time()\n",
    "    with ThreadPoolExecutor(max_workers=16) as executor:\n",
    "        for sample in range(len(dataset)):\n",
    "            future = executor.submit(save_sample, sample, dataset, run, folder)\n",
    "    \n",
    "    print(time.time() - before)"
   ]
  },
  {
   "cell_type": "code",
   "execution_count": 11,
   "metadata": {},
   "outputs": [],
   "source": [
    "!rm -rf ../data/raw_mels_augs_RT\n",
    "!rm -rf ../data/raw_mels_augs_RT_val"
   ]
  },
  {
   "cell_type": "code",
   "execution_count": 12,
   "metadata": {},
   "outputs": [],
   "source": [
    "!mkdir ../data/raw_mels_augs_RT\n",
    "!mkdir ../data/raw_mels_augs_RT_val"
   ]
  },
  {
   "cell_type": "code",
   "execution_count": null,
   "metadata": {},
   "outputs": [
    {
     "name": "stdout",
     "output_type": "stream",
     "text": [
      "317.66523814201355\n",
      "89.53032302856445\n",
      "0\n",
      "307.2045338153839\n",
      "85.75043392181396\n",
      "1\n",
      "320.8328206539154\n",
      "78.1231620311737\n",
      "2\n",
      "320.2545087337494\n",
      "77.91554188728333\n",
      "3\n"
     ]
    }
   ],
   "source": [
    "for num in range(0, 15):\n",
    "    precalculate_and_save_one_epoch_parallel(num, \"../data/raw_mels_augs_RT\", train_dataset)\n",
    "    precalculate_and_save_one_epoch_parallel(num, \"../data/raw_mels_augs_RT_val\", valid_dataset)\n",
    "    print(num)"
   ]
  },
  {
   "cell_type": "code",
   "execution_count": null,
   "metadata": {},
   "outputs": [],
   "source": []
  }
 ],
 "metadata": {
  "kernelspec": {
   "display_name": "Python 3",
   "language": "python",
   "name": "python3"
  },
  "language_info": {
   "codemirror_mode": {
    "name": "ipython",
    "version": 3
   },
   "file_extension": ".py",
   "mimetype": "text/x-python",
   "name": "python",
   "nbconvert_exporter": "python",
   "pygments_lexer": "ipython3",
   "version": "3.6.8"
  }
 },
 "nbformat": 4,
 "nbformat_minor": 2
}
