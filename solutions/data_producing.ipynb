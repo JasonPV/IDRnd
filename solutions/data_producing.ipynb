{
 "cells": [
  {
   "cell_type": "code",
   "execution_count": null,
   "metadata": {},
   "outputs": [],
   "source": [
    "#1-person/human, 0-spoof"
   ]
  },
  {
   "cell_type": "code",
   "execution_count": 2,
   "metadata": {},
   "outputs": [],
   "source": [
    "import time\n",
    "import glob\n",
    "from IPython.display import Audio\n",
    "import logging\n",
    "from concurrent.futures import ThreadPoolExecutor\n",
    "from joblib import Parallel, delayed\n",
    "import time\n",
    "import logging\n",
    "from IPython.display import Audio\n",
    "from tqdm import tqdm\n",
    "import subprocess\n",
    "import pandas as pd\n",
    "\n",
    "from IDRnD.utils import *\n",
    "from IDRnD.augmentations import *\n",
    "from IDRnD.dataset import *\n",
    "from IDRnD.resnet import resnet50\n",
    "from IDRnD.focalloss import FocalLoss\n",
    "import numpy as np\n",
    "\n",
    "import torch\n",
    "from torch.optim import Adam, SGD\n",
    "from torch.optim.lr_scheduler import CosineAnnealingLR, CyclicLR, ReduceLROnPlateau\n",
    "from torch.utils.data import Dataset, DataLoader\n",
    "from torchvision.transforms import transforms\n",
    "\n",
    "from sklearn.model_selection import StratifiedKFold, train_test_split\n",
    "\n",
    "%reload_ext autoreload\n",
    "%autoreload 2\n",
    "%matplotlib inline\n",
    "\n",
    "seed_everything(0)\n",
    "logging.basicConfig(level=logging.DEBUG, filename=\"logs/logs.log\",\n",
    "                    filemode=\"w+\")"
   ]
  },
  {
   "cell_type": "code",
   "execution_count": 3,
   "metadata": {},
   "outputs": [],
   "source": [
    "X, y = get_train_data()\n",
    "X_train, X_val, y_train, y_val = train_test_split(X, y, test_size=0.2, random_state=42, stratify=y)"
   ]
  },
  {
   "cell_type": "code",
   "execution_count": 4,
   "metadata": {},
   "outputs": [],
   "source": [
    "train_transform = transforms.Compose([\n",
    "    #RandomParameter(VTLP, [[0.8, 1.2]], p=0.5),\n",
    "    #MinMaxChunkScaler(),\n",
    "    #Normalize(),\n",
    "    #RandomParameter(RandomNoise, [[0.01, 0.1]]),\n",
    "    #RandomParameter(Shift, [[2000, 32000]]),\n",
    "    #RandomParameter(TimeStretch, [[0.75, 1.3]]),\n",
    "    #RandomParameter(PitchShift, [[-8, 8]]),\n",
    "    #RandomParameter(Distortion, [[-1, -0.3], [.3, 1.]]),\n",
    "    ToMellSpec(n_mels=128),\n",
    "    #GetMFCC(),\n",
    "    #PadOrClip(320),\n",
    "    #Normalize(),\n",
    "    #ToTensor(),\n",
    "    #transforms.ToTensor(),\n",
    "])"
   ]
  },
  {
   "cell_type": "code",
   "execution_count": 5,
   "metadata": {},
   "outputs": [],
   "source": [
    "old_spoof1 = pd.read_csv(\"/data_spoof/CM_protocol/cm_train.trn\", sep = ' ', names=[\"folder\", \"filename\", \"wat\", \"class\"])\n",
    "old_spoof2 = pd.read_csv(\"/data_spoof/CM_protocol/cm_evaluation.ndx\", sep = ' ', names=[\"folder\", \"filename\", \"wat\", \"class\"])\n",
    "old_spoof3 = pd.read_csv(\"/data_spoof/CM_protocol/cm_develop.ndx\", sep = ' ', names=[\"folder\", \"filename\", \"wat\", \"class\"])\n",
    "old_spoof = pd.concat([old_spoof1, old_spoof2, old_spoof3])\n",
    "old_spoof.reset_index(drop=True, inplace=True)"
   ]
  },
  {
   "cell_type": "code",
   "execution_count": 6,
   "metadata": {},
   "outputs": [],
   "source": [
    "base_dir = \"/data_spoof/wav/\"\n",
    "pathes = np.array(old_spoof[[\"folder\", \"filename\"]].apply(lambda x:os.path.join(base_dir, *x)+\".wav\", axis=1))\n",
    "maping = {\"spoof\":0, \"human\":1}\n",
    "classes = np.array(old_spoof[\"class\"].apply(lambda x: maping[x]))\n",
    "\n",
    "old_spoof_dataset = BaseDatasetScipy(pathes, classes, train_transform)"
   ]
  },
  {
   "cell_type": "code",
   "execution_count": 35,
   "metadata": {},
   "outputs": [],
   "source": [
    "class AudioProcessingUnit:\n",
    "    def __init__(self):\n",
    "        self.video_folder = \"/data_common_voices/en/clips\"\n",
    "        self.save_folder = \"/data_common_voices/en/clips_wavs\"\n",
    "\n",
    "    def convert_to_wav(self, video_name: str):\n",
    "        \"\"\"\n",
    "        Converting webm to wav file .\n",
    "        \"\"\"\n",
    "        video_path = f\"{self.video_folder}/{video_name}\"\n",
    "\n",
    "        out = subprocess.Popen(['ffmpeg', \"-threads\", \"16\", '-i', video_path, \"-vn\", \"-acodec\", \"pcm_s16le\",\n",
    "                                \"-ac\", \"1\", \"-ar\", \"16000\", \"-f\", \"wav\",  f'{self.save_folder}/{video_name}.wav'],\n",
    "                               stdout=subprocess.PIPE, stderr=subprocess.STDOUT)\n",
    "        #out.wait()"
   ]
  },
  {
   "cell_type": "code",
   "execution_count": 36,
   "metadata": {},
   "outputs": [],
   "source": [
    "apu = AudioProcessingUnit()"
   ]
  },
  {
   "cell_type": "code",
   "execution_count": 4,
   "metadata": {},
   "outputs": [],
   "source": [
    "train_dataset = SimpleMelDataset(X, y, \"../data/files/raw_mels/\", train_transform)\n",
    "#val_dataset = Base_Dataset(X_val, y_val, train_transform)"
   ]
  },
  {
   "cell_type": "code",
   "execution_count": null,
   "metadata": {},
   "outputs": [],
   "source": [
    "base_path = \"/data_common_voices/en/clips/\"\n",
    "common_voice_files = os.listdir(base_path)\n",
    "common = [os.path.join(base_path, file) for file in common_voice_files]\n",
    "common_dataset = BaseDatasetScipy(common, np.ones_like(common, dtype=np.int16), train_transform)"
   ]
  },
  {
   "cell_type": "code",
   "execution_count": 27,
   "metadata": {},
   "outputs": [
    {
     "name": "stderr",
     "output_type": "stream",
     "text": [
      "[Parallel(n_jobs=200)]: Using backend ThreadingBackend with 200 concurrent workers.\n",
      "[Parallel(n_jobs=200)]: Done  50 tasks      | elapsed:    5.8s\n",
      "[Parallel(n_jobs=200)]: Done 248 tasks      | elapsed:    7.8s\n",
      "[Parallel(n_jobs=200)]: Done 482 tasks      | elapsed:   11.7s\n",
      "[Parallel(n_jobs=200)]: Done 752 tasks      | elapsed:   14.9s\n",
      "[Parallel(n_jobs=200)]: Done 1058 tasks      | elapsed:   19.0s\n",
      "[Parallel(n_jobs=200)]: Done 1400 tasks      | elapsed:   23.6s\n",
      "[Parallel(n_jobs=200)]: Done 1778 tasks      | elapsed:   28.4s\n",
      "[Parallel(n_jobs=200)]: Done 2192 tasks      | elapsed:   34.0s\n",
      "[Parallel(n_jobs=200)]: Done 2642 tasks      | elapsed:   34.8s\n"
     ]
    },
    {
     "ename": "KeyboardInterrupt",
     "evalue": "",
     "output_type": "error",
     "traceback": [
      "\u001b[0;31m---------------------------------------------------------------------------\u001b[0m",
      "\u001b[0;31mKeyboardInterrupt\u001b[0m                         Traceback (most recent call last)",
      "\u001b[0;32m<ipython-input-27-5d81e6f1a74b>\u001b[0m in \u001b[0;36m<module>\u001b[0;34m\u001b[0m\n\u001b[0;32m----> 1\u001b[0;31m \u001b[0mParallel\u001b[0m\u001b[0;34m(\u001b[0m\u001b[0mn_jobs\u001b[0m\u001b[0;34m=\u001b[0m\u001b[0;36m200\u001b[0m\u001b[0;34m,\u001b[0m \u001b[0mverbose\u001b[0m\u001b[0;34m=\u001b[0m\u001b[0;36m5\u001b[0m\u001b[0;34m,\u001b[0m \u001b[0mbackend\u001b[0m\u001b[0;34m=\u001b[0m\u001b[0;34m\"threading\"\u001b[0m\u001b[0;34m)\u001b[0m\u001b[0;34m(\u001b[0m\u001b[0mdelayed\u001b[0m\u001b[0;34m(\u001b[0m\u001b[0mapu\u001b[0m\u001b[0;34m.\u001b[0m\u001b[0mconvert_to_wav\u001b[0m\u001b[0;34m)\u001b[0m\u001b[0;34m(\u001b[0m\u001b[0mfile\u001b[0m\u001b[0;34m)\u001b[0m \u001b[0;32mfor\u001b[0m \u001b[0mfile\u001b[0m \u001b[0;32min\u001b[0m \u001b[0mcommon_voice_files\u001b[0m\u001b[0;34m)\u001b[0m\u001b[0;34m\u001b[0m\u001b[0;34m\u001b[0m\u001b[0m\n\u001b[0m",
      "\u001b[0;32m/opt/conda/lib/python3.6/site-packages/joblib/parallel.py\u001b[0m in \u001b[0;36m__call__\u001b[0;34m(self, iterable)\u001b[0m\n\u001b[1;32m    932\u001b[0m \u001b[0;34m\u001b[0m\u001b[0m\n\u001b[1;32m    933\u001b[0m             \u001b[0;32mwith\u001b[0m \u001b[0mself\u001b[0m\u001b[0;34m.\u001b[0m\u001b[0m_backend\u001b[0m\u001b[0;34m.\u001b[0m\u001b[0mretrieval_context\u001b[0m\u001b[0;34m(\u001b[0m\u001b[0;34m)\u001b[0m\u001b[0;34m:\u001b[0m\u001b[0;34m\u001b[0m\u001b[0;34m\u001b[0m\u001b[0m\n\u001b[0;32m--> 934\u001b[0;31m                 \u001b[0mself\u001b[0m\u001b[0;34m.\u001b[0m\u001b[0mretrieve\u001b[0m\u001b[0;34m(\u001b[0m\u001b[0;34m)\u001b[0m\u001b[0;34m\u001b[0m\u001b[0;34m\u001b[0m\u001b[0m\n\u001b[0m\u001b[1;32m    935\u001b[0m             \u001b[0;31m# Make sure that we get a last message telling us we are done\u001b[0m\u001b[0;34m\u001b[0m\u001b[0;34m\u001b[0m\u001b[0;34m\u001b[0m\u001b[0m\n\u001b[1;32m    936\u001b[0m             \u001b[0melapsed_time\u001b[0m \u001b[0;34m=\u001b[0m \u001b[0mtime\u001b[0m\u001b[0;34m.\u001b[0m\u001b[0mtime\u001b[0m\u001b[0;34m(\u001b[0m\u001b[0;34m)\u001b[0m \u001b[0;34m-\u001b[0m \u001b[0mself\u001b[0m\u001b[0;34m.\u001b[0m\u001b[0m_start_time\u001b[0m\u001b[0;34m\u001b[0m\u001b[0;34m\u001b[0m\u001b[0m\n",
      "\u001b[0;32m/opt/conda/lib/python3.6/site-packages/joblib/parallel.py\u001b[0m in \u001b[0;36mretrieve\u001b[0;34m(self)\u001b[0m\n\u001b[1;32m    831\u001b[0m             \u001b[0;32mtry\u001b[0m\u001b[0;34m:\u001b[0m\u001b[0;34m\u001b[0m\u001b[0;34m\u001b[0m\u001b[0m\n\u001b[1;32m    832\u001b[0m                 \u001b[0;32mif\u001b[0m \u001b[0mgetattr\u001b[0m\u001b[0;34m(\u001b[0m\u001b[0mself\u001b[0m\u001b[0;34m.\u001b[0m\u001b[0m_backend\u001b[0m\u001b[0;34m,\u001b[0m \u001b[0;34m'supports_timeout'\u001b[0m\u001b[0;34m,\u001b[0m \u001b[0;32mFalse\u001b[0m\u001b[0;34m)\u001b[0m\u001b[0;34m:\u001b[0m\u001b[0;34m\u001b[0m\u001b[0;34m\u001b[0m\u001b[0m\n\u001b[0;32m--> 833\u001b[0;31m                     \u001b[0mself\u001b[0m\u001b[0;34m.\u001b[0m\u001b[0m_output\u001b[0m\u001b[0;34m.\u001b[0m\u001b[0mextend\u001b[0m\u001b[0;34m(\u001b[0m\u001b[0mjob\u001b[0m\u001b[0;34m.\u001b[0m\u001b[0mget\u001b[0m\u001b[0;34m(\u001b[0m\u001b[0mtimeout\u001b[0m\u001b[0;34m=\u001b[0m\u001b[0mself\u001b[0m\u001b[0;34m.\u001b[0m\u001b[0mtimeout\u001b[0m\u001b[0;34m)\u001b[0m\u001b[0;34m)\u001b[0m\u001b[0;34m\u001b[0m\u001b[0;34m\u001b[0m\u001b[0m\n\u001b[0m\u001b[1;32m    834\u001b[0m                 \u001b[0;32melse\u001b[0m\u001b[0;34m:\u001b[0m\u001b[0;34m\u001b[0m\u001b[0;34m\u001b[0m\u001b[0m\n\u001b[1;32m    835\u001b[0m                     \u001b[0mself\u001b[0m\u001b[0;34m.\u001b[0m\u001b[0m_output\u001b[0m\u001b[0;34m.\u001b[0m\u001b[0mextend\u001b[0m\u001b[0;34m(\u001b[0m\u001b[0mjob\u001b[0m\u001b[0;34m.\u001b[0m\u001b[0mget\u001b[0m\u001b[0;34m(\u001b[0m\u001b[0;34m)\u001b[0m\u001b[0;34m)\u001b[0m\u001b[0;34m\u001b[0m\u001b[0;34m\u001b[0m\u001b[0m\n",
      "\u001b[0;32m/opt/conda/lib/python3.6/multiprocessing/pool.py\u001b[0m in \u001b[0;36mget\u001b[0;34m(self, timeout)\u001b[0m\n\u001b[1;32m    636\u001b[0m \u001b[0;34m\u001b[0m\u001b[0m\n\u001b[1;32m    637\u001b[0m     \u001b[0;32mdef\u001b[0m \u001b[0mget\u001b[0m\u001b[0;34m(\u001b[0m\u001b[0mself\u001b[0m\u001b[0;34m,\u001b[0m \u001b[0mtimeout\u001b[0m\u001b[0;34m=\u001b[0m\u001b[0;32mNone\u001b[0m\u001b[0;34m)\u001b[0m\u001b[0;34m:\u001b[0m\u001b[0;34m\u001b[0m\u001b[0;34m\u001b[0m\u001b[0m\n\u001b[0;32m--> 638\u001b[0;31m         \u001b[0mself\u001b[0m\u001b[0;34m.\u001b[0m\u001b[0mwait\u001b[0m\u001b[0;34m(\u001b[0m\u001b[0mtimeout\u001b[0m\u001b[0;34m)\u001b[0m\u001b[0;34m\u001b[0m\u001b[0;34m\u001b[0m\u001b[0m\n\u001b[0m\u001b[1;32m    639\u001b[0m         \u001b[0;32mif\u001b[0m \u001b[0;32mnot\u001b[0m \u001b[0mself\u001b[0m\u001b[0;34m.\u001b[0m\u001b[0mready\u001b[0m\u001b[0;34m(\u001b[0m\u001b[0;34m)\u001b[0m\u001b[0;34m:\u001b[0m\u001b[0;34m\u001b[0m\u001b[0;34m\u001b[0m\u001b[0m\n\u001b[1;32m    640\u001b[0m             \u001b[0;32mraise\u001b[0m \u001b[0mTimeoutError\u001b[0m\u001b[0;34m\u001b[0m\u001b[0;34m\u001b[0m\u001b[0m\n",
      "\u001b[0;32m/opt/conda/lib/python3.6/multiprocessing/pool.py\u001b[0m in \u001b[0;36mwait\u001b[0;34m(self, timeout)\u001b[0m\n\u001b[1;32m    633\u001b[0m \u001b[0;34m\u001b[0m\u001b[0m\n\u001b[1;32m    634\u001b[0m     \u001b[0;32mdef\u001b[0m \u001b[0mwait\u001b[0m\u001b[0;34m(\u001b[0m\u001b[0mself\u001b[0m\u001b[0;34m,\u001b[0m \u001b[0mtimeout\u001b[0m\u001b[0;34m=\u001b[0m\u001b[0;32mNone\u001b[0m\u001b[0;34m)\u001b[0m\u001b[0;34m:\u001b[0m\u001b[0;34m\u001b[0m\u001b[0;34m\u001b[0m\u001b[0m\n\u001b[0;32m--> 635\u001b[0;31m         \u001b[0mself\u001b[0m\u001b[0;34m.\u001b[0m\u001b[0m_event\u001b[0m\u001b[0;34m.\u001b[0m\u001b[0mwait\u001b[0m\u001b[0;34m(\u001b[0m\u001b[0mtimeout\u001b[0m\u001b[0;34m)\u001b[0m\u001b[0;34m\u001b[0m\u001b[0;34m\u001b[0m\u001b[0m\n\u001b[0m\u001b[1;32m    636\u001b[0m \u001b[0;34m\u001b[0m\u001b[0m\n\u001b[1;32m    637\u001b[0m     \u001b[0;32mdef\u001b[0m \u001b[0mget\u001b[0m\u001b[0;34m(\u001b[0m\u001b[0mself\u001b[0m\u001b[0;34m,\u001b[0m \u001b[0mtimeout\u001b[0m\u001b[0;34m=\u001b[0m\u001b[0;32mNone\u001b[0m\u001b[0;34m)\u001b[0m\u001b[0;34m:\u001b[0m\u001b[0;34m\u001b[0m\u001b[0;34m\u001b[0m\u001b[0m\n",
      "\u001b[0;32m/opt/conda/lib/python3.6/threading.py\u001b[0m in \u001b[0;36mwait\u001b[0;34m(self, timeout)\u001b[0m\n\u001b[1;32m    549\u001b[0m             \u001b[0msignaled\u001b[0m \u001b[0;34m=\u001b[0m \u001b[0mself\u001b[0m\u001b[0;34m.\u001b[0m\u001b[0m_flag\u001b[0m\u001b[0;34m\u001b[0m\u001b[0;34m\u001b[0m\u001b[0m\n\u001b[1;32m    550\u001b[0m             \u001b[0;32mif\u001b[0m \u001b[0;32mnot\u001b[0m \u001b[0msignaled\u001b[0m\u001b[0;34m:\u001b[0m\u001b[0;34m\u001b[0m\u001b[0;34m\u001b[0m\u001b[0m\n\u001b[0;32m--> 551\u001b[0;31m                 \u001b[0msignaled\u001b[0m \u001b[0;34m=\u001b[0m \u001b[0mself\u001b[0m\u001b[0;34m.\u001b[0m\u001b[0m_cond\u001b[0m\u001b[0;34m.\u001b[0m\u001b[0mwait\u001b[0m\u001b[0;34m(\u001b[0m\u001b[0mtimeout\u001b[0m\u001b[0;34m)\u001b[0m\u001b[0;34m\u001b[0m\u001b[0;34m\u001b[0m\u001b[0m\n\u001b[0m\u001b[1;32m    552\u001b[0m             \u001b[0;32mreturn\u001b[0m \u001b[0msignaled\u001b[0m\u001b[0;34m\u001b[0m\u001b[0;34m\u001b[0m\u001b[0m\n\u001b[1;32m    553\u001b[0m \u001b[0;34m\u001b[0m\u001b[0m\n",
      "\u001b[0;32m/opt/conda/lib/python3.6/threading.py\u001b[0m in \u001b[0;36mwait\u001b[0;34m(self, timeout)\u001b[0m\n\u001b[1;32m    293\u001b[0m         \u001b[0;32mtry\u001b[0m\u001b[0;34m:\u001b[0m    \u001b[0;31m# restore state no matter what (e.g., KeyboardInterrupt)\u001b[0m\u001b[0;34m\u001b[0m\u001b[0;34m\u001b[0m\u001b[0m\n\u001b[1;32m    294\u001b[0m             \u001b[0;32mif\u001b[0m \u001b[0mtimeout\u001b[0m \u001b[0;32mis\u001b[0m \u001b[0;32mNone\u001b[0m\u001b[0;34m:\u001b[0m\u001b[0;34m\u001b[0m\u001b[0;34m\u001b[0m\u001b[0m\n\u001b[0;32m--> 295\u001b[0;31m                 \u001b[0mwaiter\u001b[0m\u001b[0;34m.\u001b[0m\u001b[0macquire\u001b[0m\u001b[0;34m(\u001b[0m\u001b[0;34m)\u001b[0m\u001b[0;34m\u001b[0m\u001b[0;34m\u001b[0m\u001b[0m\n\u001b[0m\u001b[1;32m    296\u001b[0m                 \u001b[0mgotit\u001b[0m \u001b[0;34m=\u001b[0m \u001b[0;32mTrue\u001b[0m\u001b[0;34m\u001b[0m\u001b[0;34m\u001b[0m\u001b[0m\n\u001b[1;32m    297\u001b[0m             \u001b[0;32melse\u001b[0m\u001b[0;34m:\u001b[0m\u001b[0;34m\u001b[0m\u001b[0;34m\u001b[0m\u001b[0m\n",
      "\u001b[0;31mKeyboardInterrupt\u001b[0m: "
     ]
    }
   ],
   "source": [
    "Parallel(n_jobs=16, verbose=5, backend=\"multiprocessing\")(delayed(apu.convert_to_wav)(file) for file in common_voice_files)"
   ]
  },
  {
   "cell_type": "code",
   "execution_count": 6,
   "metadata": {},
   "outputs": [],
   "source": [
    "def move_file(file):\n",
    "    new_name = os.path.join(base_path, file.replace('.mp3.mp3', \".wav\"))\n",
    "    old_name = os.path.join(base_path, file)\n",
    "    os.rename(old_name, new_name)"
   ]
  },
  {
   "cell_type": "code",
   "execution_count": null,
   "metadata": {},
   "outputs": [
    {
     "name": "stdout",
     "output_type": "stream",
     "text": [
      "945939\n"
     ]
    },
    {
     "name": "stderr",
     "output_type": "stream",
     "text": [
      "[Parallel(n_jobs=16)]: Using backend LokyBackend with 16 concurrent workers.\n",
      "[Parallel(n_jobs=16)]: Done  44 tasks      | elapsed:    0.5s\n",
      "[Parallel(n_jobs=16)]: Done 3376 tasks      | elapsed:    1.0s\n",
      "[Parallel(n_jobs=16)]: Done 27134 tasks      | elapsed:    2.2s\n",
      "[Parallel(n_jobs=16)]: Done 86750 tasks      | elapsed:    3.8s\n",
      "[Parallel(n_jobs=16)]: Done 139922 tasks      | elapsed:  1.6min\n",
      "[Parallel(n_jobs=16)]: Done 183663 tasks      | elapsed:  4.1min\n",
      "[Parallel(n_jobs=16)]: Done 233574 tasks      | elapsed:  6.7min\n",
      "[Parallel(n_jobs=16)]: Done 280165 tasks      | elapsed:  9.2min\n",
      "[Parallel(n_jobs=16)]: Done 337940 tasks      | elapsed: 12.8min\n",
      "[Parallel(n_jobs=16)]: Done 412533 tasks      | elapsed: 17.1min\n",
      "[Parallel(n_jobs=16)]: Done 499537 tasks      | elapsed: 22.5min\n",
      "[Parallel(n_jobs=16)]: Done 569473 tasks      | elapsed: 26.8min\n",
      "[Parallel(n_jobs=16)]: Done 637694 tasks      | elapsed: 30.9min\n",
      "[Parallel(n_jobs=16)]: Done 735607 tasks      | elapsed: 36.9min\n",
      "[Parallel(n_jobs=16)]: Done 816969 tasks      | elapsed: 41.7min\n"
     ]
    }
   ],
   "source": [
    "print(len(common_dataset))\n",
    "Parallel(n_jobs=16, verbose=5)(delayed(move_file)(file) for file in common_voice_files)"
   ]
  },
  {
   "cell_type": "code",
   "execution_count": 10,
   "metadata": {},
   "outputs": [],
   "source": [
    "def precalculate_and_save_one_epoch(folder, run, dataset):\n",
    "    for sample in tqdm(range(len(dataset))):\n",
    "        k = dataset[sample][0]\n",
    "        name = f\"{run}_{sample}\"\n",
    "        path = os.path.join(folder, name)\n",
    "        np.save(path, k)"
   ]
  },
  {
   "cell_type": "code",
   "execution_count": 11,
   "metadata": {},
   "outputs": [],
   "source": [
    "def save_sample(sample, dataset, run, folder):\n",
    "    try:\n",
    "        k = dataset[sample][0]\n",
    "        name = dataset.X[sample].split(\"/\")[-1].split(\".\")[0]\n",
    "        #name = f\"{run}_{sample}\"\n",
    "        path = os.path.join(folder, name)\n",
    "        np.save(path, k)\n",
    "    except Exception as exp:\n",
    "        print(exp)"
   ]
  },
  {
   "cell_type": "code",
   "execution_count": 12,
   "metadata": {},
   "outputs": [],
   "source": [
    "def precalculate_and_save_one_epoch_parallel(run, folder, dataset):\n",
    "    before = time.time()\n",
    "    with ThreadPoolExecutor(max_workers=16) as executor:\n",
    "        for sample in range(len(dataset)):\n",
    "            future = executor.submit(save_sample, sample, dataset, run, folder)\n",
    "    \n",
    "    print(time.time() - before)"
   ]
  },
  {
   "cell_type": "code",
   "execution_count": 13,
   "metadata": {},
   "outputs": [],
   "source": [
    "def precalculate_and_save_one_epoch_joblib(run, folder, dataset):\n",
    "    Parallel(n_jobs=16, verbose=5, backend=\"multiprocessing\")(delayed(save_sample)(sample, dataset, run, folder)\n",
    "                        for sample in range(len(dataset)))"
   ]
  },
  {
   "cell_type": "markdown",
   "metadata": {},
   "source": [
    "!rm -rf ../data/files/raw_mels\n",
    "!rm -rf ../data/files/raw_mels_val"
   ]
  },
  {
   "cell_type": "raw",
   "metadata": {},
   "source": [
    "!mkdir ../data/files/raw_mels\n",
    "#!mkdir ../data/files/raw_mels_val"
   ]
  },
  {
   "cell_type": "code",
   "execution_count": 14,
   "metadata": {},
   "outputs": [
    {
     "data": {
      "text/plain": [
       "(array([0., 0., 0., ..., 0., 0., 0.], dtype=float32), 22050)"
      ]
     },
     "execution_count": 14,
     "metadata": {},
     "output_type": "execute_result"
    }
   ],
   "source": [
    "librosa.core.load(\"/data_common_voices/en/clips/common_voice_en_495975.mp3\")"
   ]
  },
  {
   "cell_type": "code",
   "execution_count": 14,
   "metadata": {},
   "outputs": [
    {
     "name": "stderr",
     "output_type": "stream",
     "text": [
      "[Parallel(n_jobs=16)]: Using backend MultiprocessingBackend with 16 concurrent workers.\n",
      "[Parallel(n_jobs=16)]: Done  48 tasks      | elapsed:    2.8s\n",
      "[Parallel(n_jobs=16)]: Done 162 tasks      | elapsed:    8.5s\n",
      "[Parallel(n_jobs=16)]: Done 288 tasks      | elapsed:   17.1s\n",
      "[Parallel(n_jobs=16)]: Done 450 tasks      | elapsed:   27.9s\n",
      "[Parallel(n_jobs=16)]: Done 648 tasks      | elapsed:   40.7s\n",
      "[Parallel(n_jobs=16)]: Done 882 tasks      | elapsed:   56.4s\n",
      "[Parallel(n_jobs=16)]: Done 1152 tasks      | elapsed:  1.2min\n",
      "[Parallel(n_jobs=16)]: Done 1458 tasks      | elapsed:  1.6min\n",
      "[Parallel(n_jobs=16)]: Done 1800 tasks      | elapsed:  2.0min\n",
      "[Parallel(n_jobs=16)]: Done 2178 tasks      | elapsed:  2.4min\n",
      "[Parallel(n_jobs=16)]: Done 2592 tasks      | elapsed:  2.9min\n",
      "[Parallel(n_jobs=16)]: Done 3042 tasks      | elapsed:  3.4min\n",
      "[Parallel(n_jobs=16)]: Done 3528 tasks      | elapsed:  3.9min\n",
      "[Parallel(n_jobs=16)]: Done 4050 tasks      | elapsed:  4.5min\n",
      "[Parallel(n_jobs=16)]: Done 4608 tasks      | elapsed:  5.2min\n",
      "[Parallel(n_jobs=16)]: Done 5202 tasks      | elapsed:  5.8min\n",
      "[Parallel(n_jobs=16)]: Done 5832 tasks      | elapsed:  6.5min\n",
      "[Parallel(n_jobs=16)]: Done 6498 tasks      | elapsed:  7.3min\n",
      "[Parallel(n_jobs=16)]: Done 7200 tasks      | elapsed:  8.1min\n",
      "[Parallel(n_jobs=16)]: Done 7938 tasks      | elapsed:  8.9min\n",
      "[Parallel(n_jobs=16)]: Done 8712 tasks      | elapsed:  9.8min\n",
      "[Parallel(n_jobs=16)]: Done 9522 tasks      | elapsed: 10.8min\n",
      "[Parallel(n_jobs=16)]: Done 10368 tasks      | elapsed: 11.7min\n",
      "[Parallel(n_jobs=16)]: Done 11250 tasks      | elapsed: 12.7min\n",
      "[Parallel(n_jobs=16)]: Done 12168 tasks      | elapsed: 13.8min\n",
      "[Parallel(n_jobs=16)]: Done 13122 tasks      | elapsed: 14.8min\n",
      "[Parallel(n_jobs=16)]: Done 14112 tasks      | elapsed: 16.0min\n",
      "[Parallel(n_jobs=16)]: Done 15138 tasks      | elapsed: 17.1min\n",
      "[Parallel(n_jobs=16)]: Done 16200 tasks      | elapsed: 18.3min\n",
      "[Parallel(n_jobs=16)]: Done 17298 tasks      | elapsed: 19.6min\n",
      "[Parallel(n_jobs=16)]: Done 18432 tasks      | elapsed: 20.8min\n",
      "[Parallel(n_jobs=16)]: Done 19602 tasks      | elapsed: 22.1min\n",
      "[Parallel(n_jobs=16)]: Done 20808 tasks      | elapsed: 23.5min\n",
      "[Parallel(n_jobs=16)]: Done 22050 tasks      | elapsed: 24.9min\n",
      "[Parallel(n_jobs=16)]: Done 23328 tasks      | elapsed: 26.3min\n",
      "[Parallel(n_jobs=16)]: Done 24642 tasks      | elapsed: 27.8min\n",
      "[Parallel(n_jobs=16)]: Done 25992 tasks      | elapsed: 29.3min\n",
      "[Parallel(n_jobs=16)]: Done 27378 tasks      | elapsed: 30.9min\n",
      "[Parallel(n_jobs=16)]: Done 28800 tasks      | elapsed: 32.5min\n",
      "[Parallel(n_jobs=16)]: Done 30258 tasks      | elapsed: 34.1min\n",
      "[Parallel(n_jobs=16)]: Done 31752 tasks      | elapsed: 35.8min\n",
      "[Parallel(n_jobs=16)]: Done 33282 tasks      | elapsed: 37.5min\n",
      "[Parallel(n_jobs=16)]: Done 34848 tasks      | elapsed: 39.2min\n",
      "[Parallel(n_jobs=16)]: Done 36450 tasks      | elapsed: 41.0min\n",
      "[Parallel(n_jobs=16)]: Done 38088 tasks      | elapsed: 42.9min\n",
      "[Parallel(n_jobs=16)]: Done 39762 tasks      | elapsed: 44.8min\n",
      "[Parallel(n_jobs=16)]: Done 41472 tasks      | elapsed: 46.7min\n",
      "[Parallel(n_jobs=16)]: Done 43218 tasks      | elapsed: 48.6min\n",
      "[Parallel(n_jobs=16)]: Done 45000 tasks      | elapsed: 50.6min\n",
      "[Parallel(n_jobs=16)]: Done 46818 tasks      | elapsed: 52.7min\n",
      "[Parallel(n_jobs=16)]: Done 48672 tasks      | elapsed: 54.8min\n",
      "[Parallel(n_jobs=16)]: Done 50562 tasks      | elapsed: 56.9min\n",
      "[Parallel(n_jobs=16)]: Done 52488 tasks      | elapsed: 59.0min\n",
      "[Parallel(n_jobs=16)]: Done 54450 tasks      | elapsed: 61.2min\n",
      "[Parallel(n_jobs=16)]: Done 56448 tasks      | elapsed: 63.5min\n",
      "[Parallel(n_jobs=16)]: Done 58482 tasks      | elapsed: 65.8min\n",
      "[Parallel(n_jobs=16)]: Done 60552 tasks      | elapsed: 68.1min\n",
      "[Parallel(n_jobs=16)]: Done 62658 tasks      | elapsed: 70.5min\n",
      "[Parallel(n_jobs=16)]: Done 64800 tasks      | elapsed: 72.9min\n",
      "[Parallel(n_jobs=16)]: Done 66978 tasks      | elapsed: 75.3min\n",
      "[Parallel(n_jobs=16)]: Done 69192 tasks      | elapsed: 77.8min\n",
      "[Parallel(n_jobs=16)]: Done 71442 tasks      | elapsed: 80.3min\n",
      "[Parallel(n_jobs=16)]: Done 73728 tasks      | elapsed: 82.9min\n",
      "[Parallel(n_jobs=16)]: Done 76050 tasks      | elapsed: 85.5min\n",
      "[Parallel(n_jobs=16)]: Done 78408 tasks      | elapsed: 88.2min\n",
      "[Parallel(n_jobs=16)]: Done 80802 tasks      | elapsed: 90.9min\n",
      "[Parallel(n_jobs=16)]: Done 83232 tasks      | elapsed: 93.6min\n",
      "[Parallel(n_jobs=16)]: Done 85698 tasks      | elapsed: 96.4min\n",
      "[Parallel(n_jobs=16)]: Done 88200 tasks      | elapsed: 99.2min\n",
      "[Parallel(n_jobs=16)]: Done 90738 tasks      | elapsed: 102.1min\n",
      "[Parallel(n_jobs=16)]: Done 93312 tasks      | elapsed: 105.0min\n",
      "[Parallel(n_jobs=16)]: Done 95922 tasks      | elapsed: 107.9min\n",
      "[Parallel(n_jobs=16)]: Done 98568 tasks      | elapsed: 110.9min\n",
      "[Parallel(n_jobs=16)]: Done 101250 tasks      | elapsed: 113.9min\n",
      "[Parallel(n_jobs=16)]: Done 103968 tasks      | elapsed: 117.0min\n",
      "[Parallel(n_jobs=16)]: Done 106722 tasks      | elapsed: 120.1min\n",
      "[Parallel(n_jobs=16)]: Done 109512 tasks      | elapsed: 123.3min\n",
      "[Parallel(n_jobs=16)]: Done 112338 tasks      | elapsed: 126.4min\n",
      "[Parallel(n_jobs=16)]: Done 115200 tasks      | elapsed: 129.7min\n",
      "[Parallel(n_jobs=16)]: Done 118098 tasks      | elapsed: 132.9min\n",
      "[Parallel(n_jobs=16)]: Done 121032 tasks      | elapsed: 136.3min\n",
      "[Parallel(n_jobs=16)]: Done 124002 tasks      | elapsed: 139.6min\n",
      "[Parallel(n_jobs=16)]: Done 127008 tasks      | elapsed: 143.0min\n",
      "[Parallel(n_jobs=16)]: Done 130050 tasks      | elapsed: 146.4min\n",
      "[Parallel(n_jobs=16)]: Done 133128 tasks      | elapsed: 149.9min\n",
      "[Parallel(n_jobs=16)]: Done 136242 tasks      | elapsed: 153.4min\n",
      "[Parallel(n_jobs=16)]: Done 139392 tasks      | elapsed: 156.9min\n",
      "[Parallel(n_jobs=16)]: Done 142578 tasks      | elapsed: 160.5min\n",
      "[Parallel(n_jobs=16)]: Done 145800 tasks      | elapsed: 164.2min\n",
      "[Parallel(n_jobs=16)]: Done 149058 tasks      | elapsed: 167.8min\n",
      "[Parallel(n_jobs=16)]: Done 152352 tasks      | elapsed: 171.5min\n",
      "[Parallel(n_jobs=16)]: Done 155682 tasks      | elapsed: 175.3min\n",
      "[Parallel(n_jobs=16)]: Done 159048 tasks      | elapsed: 179.1min\n",
      "[Parallel(n_jobs=16)]: Done 162450 tasks      | elapsed: 182.9min\n",
      "[Parallel(n_jobs=16)]: Done 165888 tasks      | elapsed: 186.8min\n",
      "[Parallel(n_jobs=16)]: Done 169362 tasks      | elapsed: 190.7min\n",
      "[Parallel(n_jobs=16)]: Done 172872 tasks      | elapsed: 194.7min\n",
      "[Parallel(n_jobs=16)]: Done 176418 tasks      | elapsed: 198.7min\n",
      "[Parallel(n_jobs=16)]: Done 180000 tasks      | elapsed: 202.8min\n",
      "[Parallel(n_jobs=16)]: Done 183618 tasks      | elapsed: 206.8min\n",
      "[Parallel(n_jobs=16)]: Done 187272 tasks      | elapsed: 210.9min\n",
      "[Parallel(n_jobs=16)]: Done 190962 tasks      | elapsed: 215.1min\n",
      "[Parallel(n_jobs=16)]: Done 194688 tasks      | elapsed: 219.3min\n",
      "[Parallel(n_jobs=16)]: Done 198450 tasks      | elapsed: 223.6min\n",
      "[Parallel(n_jobs=16)]: Done 202248 tasks      | elapsed: 227.8min\n",
      "[Parallel(n_jobs=16)]: Done 206082 tasks      | elapsed: 232.2min\n",
      "[Parallel(n_jobs=16)]: Done 209952 tasks      | elapsed: 236.6min\n",
      "[Parallel(n_jobs=16)]: Done 213858 tasks      | elapsed: 241.0min\n",
      "[Parallel(n_jobs=16)]: Done 217800 tasks      | elapsed: 245.4min\n",
      "[Parallel(n_jobs=16)]: Done 221778 tasks      | elapsed: 250.0min\n",
      "[Parallel(n_jobs=16)]: Done 225792 tasks      | elapsed: 254.5min\n",
      "[Parallel(n_jobs=16)]: Done 229842 tasks      | elapsed: 259.1min\n",
      "[Parallel(n_jobs=16)]: Done 238050 tasks      | elapsed: 268.4min\n",
      "[Parallel(n_jobs=16)]: Done 242208 tasks      | elapsed: 273.1min\n",
      "[Parallel(n_jobs=16)]: Done 246402 tasks      | elapsed: 277.8min\n",
      "[Parallel(n_jobs=16)]: Done 250632 tasks      | elapsed: 282.6min\n",
      "[Parallel(n_jobs=16)]: Done 254898 tasks      | elapsed: 287.5min\n",
      "[Parallel(n_jobs=16)]: Done 259200 tasks      | elapsed: 292.3min\n",
      "[Parallel(n_jobs=16)]: Done 263151 out of 263151 | elapsed: 296.8min finished\n"
     ]
    }
   ],
   "source": [
    "for num in range(0, 1):\n",
    "    precalculate_and_save_one_epoch_joblib(num, \"../data/files/raw_mels\", old_spoof_dataset)\n",
    "    #precalculate_and_save_one_epoch_joblib(num, \"../data/files/raw_mels_val\", val_dataset)"
   ]
  },
  {
   "cell_type": "code",
   "execution_count": 41,
   "metadata": {},
   "outputs": [
    {
     "data": {
      "text/plain": [
       "71781"
      ]
     },
     "execution_count": 41,
     "metadata": {},
     "output_type": "execute_result"
    }
   ],
   "source": [
    "len(common_dataset)"
   ]
  },
  {
   "cell_type": "code",
   "execution_count": null,
   "metadata": {},
   "outputs": [],
   "source": [
    "len(os.listdir(\"../data/files/raw_mels/\"))"
   ]
  }
 ],
 "metadata": {
  "kernelspec": {
   "display_name": "Python 3",
   "language": "python",
   "name": "python3"
  },
  "language_info": {
   "codemirror_mode": {
    "name": "ipython",
    "version": 3
   },
   "file_extension": ".py",
   "mimetype": "text/x-python",
   "name": "python",
   "nbconvert_exporter": "python",
   "pygments_lexer": "ipython3",
   "version": "3.6.8"
  }
 },
 "nbformat": 4,
 "nbformat_minor": 2
}
